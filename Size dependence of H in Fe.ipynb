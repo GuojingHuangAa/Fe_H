{
 "cells": [
  {
   "cell_type": "markdown",
   "id": "9c412e3e-05d9-48ec-86b2-cb9055daa0e4",
   "metadata": {},
   "source": [
    "### SIZE DEPENDENCE OF HYDROGEN IN α-IRON"
   ]
  },
  {
   "cell_type": "code",
   "execution_count": 2,
   "id": "c71497d5-6aa5-4be2-a83b-c54a9df0094f",
   "metadata": {},
   "outputs": [
    {
     "data": {
      "application/vnd.jupyter.widget-view+json": {
       "model_id": "b1e97a84a6ad40fb8a543d6a8741a64b",
       "version_major": 2,
       "version_minor": 0
      },
      "text/plain": []
     },
     "metadata": {},
     "output_type": "display_data"
    }
   ],
   "source": [
    "import pyiron\n",
    "import numpy as np\n",
    "import matplotlib.pylab as plt"
   ]
  },
  {
   "cell_type": "code",
   "execution_count": 3,
   "id": "f725a2cd-c448-4c99-b8d4-6b9821e01c1d",
   "metadata": {},
   "outputs": [],
   "source": [
    "potential = 'FeH-NNIP'"
   ]
  },
  {
   "cell_type": "code",
   "execution_count": 4,
   "id": "3d1b5304-fc11-49d8-b5ed-3497ce80bdcd",
   "metadata": {},
   "outputs": [],
   "source": [
    "pr = pyiron.Project('size')"
   ]
  },
  {
   "cell_type": "code",
   "execution_count": 5,
   "id": "7e289407-275b-4dff-b526-27151d31336b",
   "metadata": {},
   "outputs": [
    {
     "name": "stdout",
     "output_type": "stream",
     "text": [
      "The job bulk was saved and received the ID: 10608\n"
     ]
    },
    {
     "data": {
      "text/plain": [
       "Cell([[2.8299282001208694, 1.7328312560474265e-16, 1.7328312560474265e-16], [0.0, 2.8299282001208694, 1.7328312560474263e-16], [0.0, 0.0, 2.8299282001208694]])"
      ]
     },
     "execution_count": 5,
     "metadata": {},
     "output_type": "execute_result"
    }
   ],
   "source": [
    "job = pr.create.job.Lammps('bulk', delete_existing_job=True)\n",
    "bulk = pr.create.structure.bulk('Fe', cubic=True)\n",
    "job.structure = bulk\n",
    "job.potential = potential\n",
    "job.calc_minimize(pressure=0.0)\n",
    "job.run(delete_existing_job=True)\n",
    "bulk = job.get_structure(-1)\n",
    "bulk.get_cell()"
   ]
  },
  {
   "cell_type": "code",
   "execution_count": 6,
   "id": "4f361f45-04bf-4282-892f-9794c54fc9eb",
   "metadata": {},
   "outputs": [
    {
     "name": "stdout",
     "output_type": "stream",
     "text": [
      "The job sc_16 was saved and received the ID: 10609\n"
     ]
    }
   ],
   "source": [
    "# 16 atoms\n",
    "job = pr.create.job.Lammps('sc_16', delete_existing_job=True)\n",
    "sc_16 = bulk.repeat([2,2,2])\n",
    "\n",
    "cell = sc_16.get_cell()\n",
    "H = pr.create.structure.atoms(['H'], [(2.83/2, 2.83, 2.83/4*6-2.83/4)], cell=cell)\n",
    "sc_16 += H\n",
    "\n",
    "job.structure = sc_16\n",
    "job.potential = potential\n",
    "job.calc_minimize()\n",
    "job.run(delete_existing_job=True)\n"
   ]
  },
  {
   "cell_type": "code",
   "execution_count": 7,
   "id": "79dc9a55-9210-4e34-aafb-5fcc57713eef",
   "metadata": {},
   "outputs": [
    {
     "name": "stdout",
     "output_type": "stream",
     "text": [
      "The job sc_54 was saved and received the ID: 10610\n"
     ]
    }
   ],
   "source": [
    "# 54\n",
    "job = pr.create.job.Lammps('sc_54', delete_existing_job=True)\n",
    "sc_54 = bulk.repeat([3,3,3])\n",
    "\n",
    "cell = sc_54.get_cell()\n",
    "H = pr.create.structure.atoms(['H'], [(2.83/2, 2.83, 2.83/4*6-2.83/4)], cell=cell)\n",
    "sc_54 += H\n",
    "\n",
    "job.structure = sc_54\n",
    "job.potential = potential\n",
    "job.calc_minimize()\n",
    "job.run(delete_existing_job=True)"
   ]
  },
  {
   "cell_type": "code",
   "execution_count": 8,
   "id": "780d857c-9d6b-4eeb-bcce-67a664881999",
   "metadata": {},
   "outputs": [
    {
     "name": "stdout",
     "output_type": "stream",
     "text": [
      "The job sc_128 was saved and received the ID: 10611\n"
     ]
    }
   ],
   "source": [
    "# 128\n",
    "job = pr.create.job.Lammps('sc_128', delete_existing_job=True)\n",
    "sc_128 = bulk.repeat([4,4,4])\n",
    "\n",
    "cell = sc_128.get_cell()\n",
    "H = pr.create.structure.atoms(['H'], [(2.83/2, 2.83, 2.83/4*6-2.83/4)], cell=cell)\n",
    "sc_128 += H\n",
    "\n",
    "job.structure = sc_128\n",
    "job.potential = potential\n",
    "job.calc_minimize()\n",
    "job.run(delete_existing_job=True)"
   ]
  },
  {
   "cell_type": "code",
   "execution_count": 9,
   "id": "eaf4e5b5-9f82-4360-9152-6e5d352c4a4e",
   "metadata": {},
   "outputs": [],
   "source": [
    "job = job.load('sc_16')\n",
    "p = job.output.pressures[0] - job.output.pressures[-1]\n",
    "p_main = np.diagonal(p)\n",
    "P1 = p_main.mean()\n",
    "P1\n",
    "E1 = job.output.energy_tot[0] - job.output.energy_tot[-1]"
   ]
  },
  {
   "cell_type": "code",
   "execution_count": 10,
   "id": "9c92645d-9a43-4bfe-8e6e-984bf3a47787",
   "metadata": {},
   "outputs": [],
   "source": [
    "job = job.load('sc_54')\n",
    "p = job.output.pressures[0] - job.output.pressures[-1]\n",
    "p_main = np.diagonal(p)\n",
    "P2 = p_main.mean()\n",
    "P2\n",
    "E2 = job.output.energy_tot[0] - job.output.energy_tot[-1]"
   ]
  },
  {
   "cell_type": "code",
   "execution_count": 11,
   "id": "25c8085e-698f-47dd-bbec-f5cf06ffc6af",
   "metadata": {},
   "outputs": [],
   "source": [
    "job = job.load('sc_128')\n",
    "p = job.output.pressures[0] - job.output.pressures[-1]\n",
    "p_main = np.diagonal(p)\n",
    "P3 = p_main.mean()\n",
    "P3\n",
    "E3 = job.output.energy_tot[0] - job.output.energy_tot[-1]"
   ]
  },
  {
   "cell_type": "code",
   "execution_count": 12,
   "id": "09df71e0-76f9-4214-bb58-4fd979cbd334",
   "metadata": {},
   "outputs": [
    {
     "data": {
      "image/png": "[encoded data removed]",
      "text/plain": [
       "<Figure size 640x480 with 1 Axes>"
      ]
     },
     "metadata": {},
     "output_type": "display_data"
    }
   ],
   "source": [
    "# Define the points\n",
    "points = [(1/128, P3), (1/54, P2), (1/16, P1)]\n",
    "\n",
    "# Separate x and y coordinates\n",
    "x_values = [point[0] for point in points]\n",
    "y_values = [point[1] for point in points]\n",
    "\n",
    "# Plot the points\n",
    "plt.plot(x_values, y_values, 'o-')\n",
    "\n",
    "# Customize x-axis ticks\n",
    "plt.xticks([1/128, 1/54, 1/16], ['$1/128$', '$1/54$', '$1/16$'])\n",
    "\n",
    "# Customize y-axis limits and ticks\n",
    "plt.ylim(-0.1, 0.5)\n",
    "plt.yticks([ 0.0, 0.2, 0.4])\n",
    "\n",
    "# Add labels and title\n",
    "plt.xlabel('X-axis')\n",
    "plt.ylabel(r'$\\Delta P_{rlx} \\, (\\mathrm{GPa})$')  # Using a raw string for LaTeX\n",
    "\n",
    "plt.axvline(x=1/128, c=\"tab:orange\")\n",
    "plt.axvline(x=1/54, c=\"tab:orange\")\n",
    "\n",
    "# Show plot\n",
    "plt.show()\n"
   ]
  },
  {
   "cell_type": "code",
   "execution_count": 13,
   "id": "38576eb4-61c3-4221-8999-58cbd503b9c2",
   "metadata": {},
   "outputs": [
    {
     "data": {
      "image/png": "[encoded data removed]",
      "text/plain": [
       "<Figure size 640x480 with 1 Axes>"
      ]
     },
     "metadata": {},
     "output_type": "display_data"
    }
   ],
   "source": [
    "# Define the points\n",
    "points = [(1/128, -E3*1000), (1/54, -E2*1000), (1/16, -E1*1000)]\n",
    "\n",
    "# Separate x and y coordinates\n",
    "x_values = [point[0] for point in points]\n",
    "y_values = [point[1] for point in points]\n",
    "\n",
    "# Plot the points\n",
    "plt.plot(x_values, y_values, 'o-')\n",
    "\n",
    "# Customize x-axis ticks\n",
    "plt.xticks([1/128, 1/54, 1/16], ['$1/128$', '$1/54$', '$1/16$'])\n",
    "\n",
    "# Customize y-axis limits and ticks\n",
    "plt.ylim(-257, -215)\n",
    "plt.yticks([ -250, -240, -230, -220])\n",
    "\n",
    "# Add labels and title\n",
    "plt.xlabel('X-axis')\n",
    "plt.ylabel(r'$\\Delta E_{rlx} \\, (\\mathrm{meV})$')  # Using a raw string for LaTeX\n",
    "\n",
    "plt.axvline(x=1/128, c=\"tab:orange\")\n",
    "plt.axvline(x=1/54, c=\"tab:orange\")\n",
    "\n",
    "# Show plot\n",
    "plt.show()\n"
   ]
  },
  {
   "cell_type": "code",
   "execution_count": null,
   "id": "90cf7ef6-2ff3-4853-a177-18e11c30f8a3",
   "metadata": {},
   "outputs": [],
   "source": []
  },
  {
   "cell_type": "code",
   "execution_count": 65,
   "id": "d0436dad-32cb-4859-b8dd-c5098e7d9655",
   "metadata": {},
   "outputs": [
    {
     "data": {
      "text/plain": [
       "0.21842607979201034"
      ]
     },
     "execution_count": 65,
     "metadata": {},
     "output_type": "execute_result"
    }
   ],
   "source": [
    "E1"
   ]
  },
  {
   "cell_type": "code",
   "execution_count": 66,
   "id": "0d71bc44-ec6a-4b32-8dda-338004cf3392",
   "metadata": {},
   "outputs": [
    {
     "data": {
      "text/plain": [
       "0.2399448922880083"
      ]
     },
     "execution_count": 66,
     "metadata": {},
     "output_type": "execute_result"
    }
   ],
   "source": [
    "E2"
   ]
  },
  {
   "cell_type": "code",
   "execution_count": 67,
   "id": "7c584ba5-3909-4cac-b6e7-21688ec5657d",
   "metadata": {},
   "outputs": [
    {
     "data": {
      "text/plain": [
       "0.24651355322998825"
      ]
     },
     "execution_count": 67,
     "metadata": {},
     "output_type": "execute_result"
    }
   ],
   "source": [
    "E3"
   ]
  },
  {
   "cell_type": "code",
   "execution_count": 82,
   "id": "c74879bc-1913-4058-915a-419fe7083869",
   "metadata": {},
   "outputs": [
    {
     "data": {
      "text/plain": [
       "['FeH-NNIP',\n",
       " '2007--Lee-B-J--Fe-H--LAMMPS--ipr1',\n",
       " '2021--Wen-M--Fe-H--LAMMPS--ipr1',\n",
       " '2022--Starikov-S--Fe-Cr-H--LAMMPS--ipr1',\n",
       " '2023--Kumar-P--Fe-H--LAMMPS--ipr1',\n",
       " 'MEAM_LAMMPS_LeeJang_2007_FeH__MO_095610951957_000',\n",
       " 'Sim_LAMMPS_ReaxFF_AryanpourVanDuinKubicki_2010_FeHO__SM_222964216001_001',\n",
       " 'FeH-NNIP']"
      ]
     },
     "execution_count": 82,
     "metadata": {},
     "output_type": "execute_result"
    }
   ],
   "source": [
    "job.list_potentials()"
   ]
  },
  {
   "cell_type": "code",
   "execution_count": null,
   "id": "273a82db-a986-4742-895f-6d7d5fcf53c3",
   "metadata": {},
   "outputs": [],
   "source": []
  },
  {
   "cell_type": "code",
   "execution_count": null,
   "id": "6e07aa64-61a6-4c5d-97d6-676ef27ade26",
   "metadata": {},
   "outputs": [],
   "source": []
  },
  {
   "cell_type": "code",
   "execution_count": null,
   "id": "8199c5de-3c0c-4dad-85d7-68bb548fd400",
   "metadata": {},
   "outputs": [],
   "source": []
  }
 ],
 "metadata": {
  "kernelspec": {
   "display_name": "Python 3 (ipykernel)",
   "language": "python",
   "name": "python3"
  },
  "language_info": {
   "codemirror_mode": {
    "name": "ipython",
    "version": 3
   },
   "file_extension": ".py",
   "mimetype": "text/x-python",
   "name": "python",
   "nbconvert_exporter": "python",
   "pygments_lexer": "ipython3",
   "version": "3.12.3"
  }
 },
 "nbformat": 4,
 "nbformat_minor": 5
}
