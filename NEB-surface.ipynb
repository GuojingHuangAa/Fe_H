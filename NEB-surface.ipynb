{
 "cells": [
  {
   "cell_type": "code",
   "execution_count": 1,
   "id": "4196bf18-67ba-418b-9195-aecbae97e2bb",
   "metadata": {},
   "outputs": [
    {
     "data": {
      "application/vnd.jupyter.widget-view+json": {
       "model_id": "16f24bb39a194b018ac19630c2427a31",
       "version_major": 2,
       "version_minor": 0
      },
      "text/plain": []
     },
     "metadata": {},
     "output_type": "display_data"
    }
   ],
   "source": [
    "import pyiron\n",
    "import ase.calculators.emt\n",
    "import ase.optimize\n",
    "import ase.neb\n",
    "import ase.visualize\n",
    "import matplotlib.pyplot as plt\n",
    "import numpy as np\n",
    "import scipy.optimize\n",
    "import ase.build"
   ]
  },
  {
   "cell_type": "code",
   "execution_count": 2,
   "id": "8af0ca22-d48c-4f24-a186-e6a0f5d4282e",
   "metadata": {},
   "outputs": [],
   "source": [
    "pr = pyiron.Project('surface_H')"
   ]
  },
  {
   "cell_type": "code",
   "execution_count": 3,
   "id": "118a2015-38c7-4dc0-af89-984d9928f75b",
   "metadata": {},
   "outputs": [],
   "source": [
    "# surface = pr.create.structure.surface('Fe', surface_type='bcc100',size=(3,3,12), vacuum=20)\n",
    "# surface.center()\n",
    "# surface.plot3d()"
   ]
  },
  {
   "cell_type": "code",
   "execution_count": 4,
   "id": "1705a92f-d7f2-43ad-94b7-7dfe924de238",
   "metadata": {},
   "outputs": [],
   "source": [
    "# surface = pr.create.structure.surface?\n",
    "# len(surface)"
   ]
  },
  {
   "cell_type": "code",
   "execution_count": null,
   "id": "04ca5666-0778-4d9d-9541-9799da414922",
   "metadata": {},
   "outputs": [],
   "source": []
  },
  {
   "cell_type": "code",
   "execution_count": 5,
   "id": "947c8e71-e359-4b40-b568-fd2a85953eed",
   "metadata": {},
   "outputs": [
    {
     "name": "stdout",
     "output_type": "stream",
     "text": [
      "The job bulk was saved and received the ID: 10837\n"
     ]
    }
   ],
   "source": [
    "bulk = pr.create.structure.bulk('Fe', cubic=True)\n",
    "job = pr.create.job.Lammps('bulk', delete_existing_job=True)\n",
    "job.structure = bulk\n",
    "job.potential = job.list_potentials()[-1]\n",
    "job.calc_minimize(pressure=0.0)\n",
    "job.run(delete_existing_job=True)"
   ]
  },
  {
   "cell_type": "code",
   "execution_count": 6,
   "id": "33a761f6-e17a-4e06-b0c6-59268ab64dfb",
   "metadata": {},
   "outputs": [],
   "source": [
    "bulk = job.get_structure(-1)"
   ]
  },
  {
   "cell_type": "code",
   "execution_count": 7,
   "id": "4c50154e-8e06-49da-b2f3-2b5d178ffaae",
   "metadata": {},
   "outputs": [
    {
     "data": {
      "application/vnd.jupyter.widget-view+json": {
       "model_id": "dcbad0c3db72473c951aac374cb4c8f6",
       "version_major": 2,
       "version_minor": 0
      },
      "text/plain": [
       "NGLWidget()"
      ]
     },
     "metadata": {},
     "output_type": "display_data"
    }
   ],
   "source": [
    "surface = pr.create.structure.surface_hkl(bulk, [0,0,1], 6, 20).repeat([3,3,1])\n",
    "surface.center()\n",
    "surface.plot3d()"
   ]
  },
  {
   "cell_type": "code",
   "execution_count": 8,
   "id": "2f40bfa0-57ec-475a-b538-99419a4eeed0",
   "metadata": {},
   "outputs": [
    {
     "data": {
      "application/vnd.jupyter.widget-view+json": {
       "model_id": "3dba898229ba49539377a22bb29ee3f6",
       "version_major": 2,
       "version_minor": 0
      },
      "text/plain": [
       "NGLWidget()"
      ]
     },
     "metadata": {},
     "output_type": "display_data"
    }
   ],
   "source": [
    "H = pr.create.structure.atoms(['H','H'], positions=[(6.367338450271957, 6.367338450271957, 2.83/2*11+10),\n",
    "                                                    (3.537410250151087, 3.537410250151087, 2.83/2*11+10)], cell=surface.get_cell())\n",
    "surface += H\n",
    "surface.plot3d()"
   ]
  },
  {
   "cell_type": "code",
   "execution_count": 9,
   "id": "62d72cbf-b355-4a44-901c-4560f0e25b6a",
   "metadata": {},
   "outputs": [
    {
     "name": "stdout",
     "output_type": "stream",
     "text": [
      "The job surface_relax was saved and received the ID: 10838\n"
     ]
    }
   ],
   "source": [
    "job = pr.create.job.Lammps('surface_relax', delete_existing_job=True)\n",
    "job.structure = surface\n",
    "job.potential = job.list_potentials()[-1]\n",
    "job.calc_minimize()\n",
    "job.run(delete_existing_job=True)"
   ]
  },
  {
   "cell_type": "code",
   "execution_count": 10,
   "id": "f4d41dbd-6a4e-4179-8dfd-0aa2dd326984",
   "metadata": {},
   "outputs": [
    {
     "data": {
      "application/vnd.jupyter.widget-view+json": {
       "model_id": "5fb43abaf63d4e8491cf44d17125ada7",
       "version_major": 2,
       "version_minor": 0
      },
      "text/plain": [
       "NGLWidget(max_frame=1)"
      ]
     },
     "metadata": {},
     "output_type": "display_data"
    }
   ],
   "source": [
    "job.animate_structures()"
   ]
  },
  {
   "cell_type": "code",
   "execution_count": 11,
   "id": "934d9246-7ef8-4f89-9a47-0ad4aedf196b",
   "metadata": {},
   "outputs": [],
   "source": [
    "surface = job.get_structure(-1)"
   ]
  },
  {
   "cell_type": "code",
   "execution_count": 12,
   "id": "f85553f4-5b60-4fe1-83cf-cffdb5530380",
   "metadata": {},
   "outputs": [
    {
     "data": {
      "text/plain": [
       "Atom('H', [3.6562562598562107, 3.656256259808139, 25.94438196217348], magmom=0.0, index=-1)"
      ]
     },
     "execution_count": 12,
     "metadata": {},
     "output_type": "execute_result"
    }
   ],
   "source": [
    "H1 = surface[-1]\n",
    "H1"
   ]
  },
  {
   "cell_type": "code",
   "execution_count": 13,
   "id": "168edaf9-34a7-4973-b8ef-50103577212d",
   "metadata": {},
   "outputs": [
    {
     "data": {
      "text/plain": [
       "Atom('H', [6.248492440565555, 6.2484924405573405, 25.94438196217348], magmom=0.0, index=-2)"
      ]
     },
     "execution_count": 13,
     "metadata": {},
     "output_type": "execute_result"
    }
   ],
   "source": [
    "H2 = surface[-2]\n",
    "H2"
   ]
  },
  {
   "cell_type": "code",
   "execution_count": 14,
   "id": "31b51705-c806-4ed5-9d67-0697b2011b3d",
   "metadata": {},
   "outputs": [],
   "source": [
    "h1 = np.array((H1.x, H1.y, H1.z))\n",
    "h2 = np.array((H2.x, H2.y, H2.z))"
   ]
  },
  {
   "cell_type": "code",
   "execution_count": 15,
   "id": "20a93130-4f90-4959-957a-d94d842ac465",
   "metadata": {},
   "outputs": [
    {
     "data": {
      "text/plain": [
       "array([ 3.65625626,  3.65625626, 25.94438196])"
      ]
     },
     "execution_count": 15,
     "metadata": {},
     "output_type": "execute_result"
    }
   ],
   "source": [
    "h1"
   ]
  },
  {
   "cell_type": "code",
   "execution_count": 16,
   "id": "565407ff-1842-4559-aa31-02e6d0236c5b",
   "metadata": {},
   "outputs": [
    {
     "data": {
      "text/plain": [
       "3.6659755636615716"
      ]
     },
     "execution_count": 16,
     "metadata": {},
     "output_type": "execute_result"
    }
   ],
   "source": [
    "distance = np.linalg.norm(h1 - h2)\n",
    "distance"
   ]
  },
  {
   "cell_type": "code",
   "execution_count": 17,
   "id": "6b523d4c-635b-4923-bef6-92080662bcf5",
   "metadata": {},
   "outputs": [
    {
     "data": {
      "text/plain": [
       "4.00222438151586"
      ]
     },
     "execution_count": 17,
     "metadata": {},
     "output_type": "execute_result"
    }
   ],
   "source": [
    "np.sqrt(2) * 2.83"
   ]
  },
  {
   "cell_type": "code",
   "execution_count": 18,
   "id": "736d6885-7f2d-4b17-9704-c9cd6431201e",
   "metadata": {},
   "outputs": [],
   "source": [
    "H2 = ase.build.molecule('H2')"
   ]
  },
  {
   "cell_type": "code",
   "execution_count": 19,
   "id": "2dafcfd7-be3e-4bee-8991-7347ba583647",
   "metadata": {},
   "outputs": [
    {
     "data": {
      "application/vnd.jupyter.widget-view+json": {
       "model_id": "17c1657454394d639d1060361a6c6976",
       "version_major": 2,
       "version_minor": 0
      },
      "text/plain": [
       "NGLWidget()"
      ]
     },
     "metadata": {},
     "output_type": "display_data"
    }
   ],
   "source": [
    "H2 = ase.build.molecule('H2')\n",
    "H2 = pyiron.ase_to_pyiron(H2)\n",
    "H2.rotate(90, 'x')\n",
    "H2.rotate(-45, 'z')\n",
    "H2.set_cell(surface.get_cell())\n",
    "H2.translate((4.9523743502118425, 4.952374350181772, 31.55481438389763))\n",
    "\n",
    "H2.plot3d()"
   ]
  },
  {
   "cell_type": "code",
   "execution_count": 21,
   "id": "5c5a0056-5b67-43e9-801d-63d18c6f6edc",
   "metadata": {},
   "outputs": [
    {
     "data": {
      "application/vnd.jupyter.widget-view+json": {
       "model_id": "e0f64d98eb90426294d48fe9e11c4a58",
       "version_major": 2,
       "version_minor": 0
      },
      "text/plain": [
       "NGLWidget()"
      ]
     },
     "metadata": {},
     "output_type": "display_data"
    }
   ],
   "source": [
    "H2 = ase.build.molecule('H2')\n",
    "H2 = pyiron.ase_to_pyiron(H2)\n",
    "H2.rotate(90, 'x')\n",
    "H2.rotate(-45, 'z')\n",
    "H2.set_cell(surface.get_cell())\n",
    "H2.translate((4.9523743502118425, 4.952374350181772, 31.55481438389763))\n",
    "H2.pbc = True\n",
    "\n",
    "surface2 = pr.create.structure.surface_hkl(bulk, [0,0,1], 6, 20).repeat([3,3,1])\n",
    "surface2.center()\n",
    "surface2 += H2\n",
    "surface2.plot3d()\n"
   ]
  },
  {
   "cell_type": "code",
   "execution_count": 22,
   "id": "94daa4ab-81aa-41b0-8d9a-bef8fc5e7391",
   "metadata": {},
   "outputs": [],
   "source": [
    "# job = pr.create.job.Lammps('surface2', delete_existing_job=True)\n",
    "# job.structure = surface2\n",
    "# job.potential = job.list_potentials()[-1]\n",
    "# job.calc_minimize(ionic_force_tolerance=0.01)\n",
    "# job.run(delete_existing_job=True)"
   ]
  },
  {
   "cell_type": "code",
   "execution_count": 23,
   "id": "fa75c1fa-0914-46a6-beaf-e0fb9ff62e5f",
   "metadata": {},
   "outputs": [],
   "source": [
    "from ase.calculators.lammpslib import LAMMPSlib"
   ]
  },
  {
   "cell_type": "code",
   "execution_count": 24,
   "id": "0000296b-c258-4a84-8283-94b9d2c39d5d",
   "metadata": {},
   "outputs": [
    {
     "data": {
      "text/plain": [
       "['pair_style hdnnp 6.5 dir  ./  showew no showewsum 0 resetew yes maxew 1000000 cflength 1.8897261328 cfenergy 0.0367493254\\n',\n",
       " 'pair_coeff * * Fe H\\n']"
      ]
     },
     "execution_count": 24,
     "metadata": {},
     "output_type": "execute_result"
    }
   ],
   "source": [
    "['pair_style hdnnp 6.5 dir  ./  showew no showewsum 0 resetew yes maxew 1000000 cflength 1.8897261328 cfenergy 0.0367493254\\n', 'pair_coeff * * Fe H\\n']"
   ]
  },
  {
   "cell_type": "code",
   "execution_count": 25,
   "id": "7774ea2a-4c60-48ec-ad79-3e16bb7b1800",
   "metadata": {},
   "outputs": [],
   "source": [
    "cmds = [\"pair_style hdnnp 6.5 dir  ./  showew no showewsum 0 resetew yes maxew 1000000 cflength 1.8897261328 cfenergy 0.0367493254\\n\",\n",
    "        \"pair_coeff * * Fe H\\n\"]\n",
    "lammps = LAMMPSlib(lmpcmds=cmds)\n",
    "\n",
    "cmds2 = [\"pair_style hdnnp 6.5 dir  ./  showew no showewsum 0 resetew yes maxew 1000000 cflength 1.8897261328 cfenergy 0.0367493254\\n\",\n",
    "        \"pair_coeff * * Fe \\n\"]\n",
    "lammps2 = LAMMPSlib(lmpcmds=cmds2)"
   ]
  },
  {
   "cell_type": "code",
   "execution_count": 26,
   "id": "d9212f22-f03c-4723-9e38-a517ff868ff0",
   "metadata": {},
   "outputs": [],
   "source": [
    "import ase.optimize\n",
    "import ase.neb\n",
    "from ase.visualize import view\n",
    "import ase.build"
   ]
  },
  {
   "cell_type": "code",
   "execution_count": 27,
   "id": "ba5a432c-b44f-4939-8be1-99d03963c98f",
   "metadata": {},
   "outputs": [],
   "source": [
    "s1 = pyiron.pyiron_to_ase(surface)\n",
    "s2 = pyiron.pyiron_to_ase(surface2)"
   ]
  },
  {
   "cell_type": "code",
   "execution_count": 28,
   "id": "200bcc3b-e717-4dea-8baa-0b52a2ec1e22",
   "metadata": {},
   "outputs": [
    {
     "data": {
      "text/plain": [
       "<Popen: returncode: None args: ['/home/gu.huang/miniconda3/envs/pyiron/bin/p...>"
      ]
     },
     "execution_count": 28,
     "metadata": {},
     "output_type": "execute_result"
    }
   ],
   "source": [
    "view(s2)"
   ]
  },
  {
   "cell_type": "code",
   "execution_count": 29,
   "id": "96c605ed-f0b9-4fd9-8f5e-a4c612060b1f",
   "metadata": {},
   "outputs": [
    {
     "name": "stdout",
     "output_type": "stream",
     "text": [
      "      Step     Time          Energy          fmax\n",
      "BFGS:    0 09:07:29     -131.683439        0.000000\n"
     ]
    },
    {
     "data": {
      "text/plain": [
       "True"
      ]
     },
     "execution_count": 29,
     "metadata": {},
     "output_type": "execute_result"
    }
   ],
   "source": [
    "Fe = ase.build.bulk('Fe', cubic=True).repeat([2,2,2])\n",
    "Fe.calc = lammps2\n",
    "opt = ase.optimize.BFGS(Fe)\n",
    "opt.run(fmax=0.01)"
   ]
  },
  {
   "cell_type": "code",
   "execution_count": 30,
   "id": "d3db5360-2e39-438d-af93-8203e1f8e1fc",
   "metadata": {},
   "outputs": [
    {
     "name": "stdout",
     "output_type": "stream",
     "text": [
      "      Step     Time          Energy          fmax\n",
      "BFGS:    0 09:07:29     -875.513609        0.000021\n"
     ]
    },
    {
     "data": {
      "text/plain": [
       "True"
      ]
     },
     "execution_count": 30,
     "metadata": {},
     "output_type": "execute_result"
    }
   ],
   "source": [
    "s1.calc = lammps\n",
    "opt = ase.optimize.BFGS(s1)\n",
    "opt.run(fmax=0.01)"
   ]
  },
  {
   "cell_type": "code",
   "execution_count": 35,
   "id": "78a7018b-112c-4a99-be16-6c837d141187",
   "metadata": {},
   "outputs": [
    {
     "name": "stdout",
     "output_type": "stream",
     "text": [
      "      Step     Time          Energy          fmax\n",
      "BFGS:    0 09:08:04     -874.572401        0.027888\n",
      "BFGS:    1 09:08:04     -874.572727        0.022490\n",
      "BFGS:    2 09:08:04     -874.573477        0.014402\n",
      "BFGS:    3 09:08:05     -874.573526        0.009622\n"
     ]
    },
    {
     "data": {
      "text/plain": [
       "True"
      ]
     },
     "execution_count": 35,
     "metadata": {},
     "output_type": "execute_result"
    }
   ],
   "source": [
    "s2.calc = lammps\n",
    "opt = ase.optimize.BFGS(s2)\n",
    "opt.run(fmax=0.01)"
   ]
  },
  {
   "cell_type": "code",
   "execution_count": 32,
   "id": "df60feef-7353-4782-8331-f73ecfd67dcc",
   "metadata": {},
   "outputs": [
    {
     "data": {
      "text/plain": [
       "-131.68343896851508"
      ]
     },
     "execution_count": 32,
     "metadata": {},
     "output_type": "execute_result"
    }
   ],
   "source": [
    "Fe.get_total_energy()"
   ]
  },
  {
   "cell_type": "code",
   "execution_count": 34,
   "id": "8fa4960d-2337-4983-8420-f5e362cd03ee",
   "metadata": {},
   "outputs": [
    {
     "data": {
      "text/plain": [
       "<Popen: returncode: None args: ['/home/gu.huang/miniconda3/envs/pyiron/bin/p...>"
      ]
     },
     "execution_count": 34,
     "metadata": {},
     "output_type": "execute_result"
    }
   ],
   "source": [
    "view(s2)"
   ]
  },
  {
   "cell_type": "code",
   "execution_count": 37,
   "id": "7ec8759f-c9a4-4392-879a-127278d341a8",
   "metadata": {},
   "outputs": [],
   "source": [
    "IS = s1.copy()\n",
    "FS = s2.copy()"
   ]
  },
  {
   "cell_type": "code",
   "execution_count": 40,
   "id": "0fbb2b50-6c70-41e1-b0f2-ce49da2713e2",
   "metadata": {},
   "outputs": [
    {
     "name": "stdout",
     "output_type": "stream",
     "text": [
      "       Step     Time          Energy          fmax\n",
      "MDMin:    0 09:14:44     -851.150522       69.065732\n",
      "MDMin:    1 09:14:45     -866.883551       51.936871\n",
      "MDMin:    2 09:14:46     -870.984896        4.010012\n",
      "MDMin:    3 09:14:47     -871.285910        5.986605\n",
      "MDMin:    4 09:14:48     -871.438204        2.799266\n",
      "MDMin:    5 09:14:49     -871.873094        8.067774\n",
      "MDMin:    6 09:14:49     -872.138272        4.135237\n",
      "MDMin:    7 09:14:50     -872.408567        2.813381\n",
      "MDMin:    8 09:14:51     -873.182706       16.414075\n",
      "MDMin:    9 09:14:52     -873.364942        3.626854\n",
      "MDMin:   10 09:14:53     -873.599544        1.901688\n",
      "MDMin:   11 09:14:54     -873.993442        7.205851\n",
      "MDMin:   12 09:14:55     -873.976436        3.903109\n",
      "MDMin:   13 09:14:56     -874.054438        1.628828\n",
      "MDMin:   14 09:14:57     -873.322234       15.139520\n",
      "MDMin:   15 09:14:58     -874.045586        3.742132\n",
      "MDMin:   16 09:14:59     -874.140217        1.361552\n",
      "MDMin:   17 09:15:00     -873.530332       13.145697\n",
      "MDMin:   18 09:15:01     -873.989655        3.875562\n",
      "MDMin:   19 09:15:02     -874.213853        1.579964\n",
      "MDMin:   20 09:15:03     -873.224227       16.060822\n",
      "MDMin:   21 09:15:04     -874.069290        3.680346\n",
      "MDMin:   22 09:15:04     -874.284506        1.268608\n",
      "MDMin:   23 09:15:05     -873.607118       12.392120\n",
      "MDMin:   24 09:15:06     -873.966461        3.925666\n",
      "MDMin:   25 09:15:07     -874.374111        1.669218\n",
      "MDMin:   26 09:15:08     -873.127237       16.959854\n",
      "MDMin:   27 09:15:09     -874.090971        3.620065\n",
      "MDMin:   28 09:15:10     -874.463514        1.182278\n",
      "MDMin:   29 09:15:11     -873.771908       10.724626\n",
      "MDMin:   30 09:15:12     -873.909682        4.035171\n",
      "MDMin:   31 09:15:13     -874.416237        1.882208\n",
      "MDMin:   32 09:15:14     -872.872475       19.269581\n",
      "MDMin:   33 09:15:15     -874.140646        3.465539\n",
      "MDMin:   34 09:15:16     -874.471857        0.979325\n",
      "MDMin:   35 09:15:17     -873.843081        9.978036\n",
      "MDMin:   36 09:15:18     -873.881501        4.083302\n",
      "MDMin:   37 09:15:19     -874.406435        1.984379\n",
      "MDMin:   38 09:15:20     -872.568994       21.951795\n",
      "MDMin:   39 09:15:21     -874.190225        3.287630\n",
      "MDMin:   40 09:15:22     -874.478347        0.773461\n",
      "MDMin:   41 09:15:22     -873.901575        9.350355\n",
      "MDMin:   42 09:15:23     -873.856386        4.123220\n",
      "MDMin:   43 09:15:24     -874.397153        2.073902\n",
      "MDMin:   44 09:15:25     -872.445771       23.021516\n",
      "MDMin:   45 09:15:26     -874.207836        3.217187\n",
      "MDMin:   46 09:15:27     -874.473652        2.162240\n",
      "MDMin:   47 09:15:28     -874.385589        2.160518\n",
      "MDMin:   48 09:15:29     -874.478217        0.766625\n",
      "MDMin:   49 09:15:30     -874.487733        0.178188\n",
      "MDMin:   50 09:15:31     -874.488133        0.091767\n"
     ]
    },
    {
     "data": {
      "text/plain": [
       "True"
      ]
     },
     "execution_count": 40,
     "metadata": {},
     "output_type": "execute_result"
    }
   ],
   "source": [
    "images = [IS]\n",
    "images[0].calc = lammps\n",
    "for i in range(9):\n",
    "    image = IS.copy()\n",
    "    lammps = LAMMPSlib(lmpcmds=cmds)\n",
    "    image.calc = lammps\n",
    "    images.append(image)\n",
    "images.append(FS)\n",
    "lammps = LAMMPSlib(lmpcmds=cmds)\n",
    "images[-1].calc = lammps\n",
    "\n",
    "neb = ase.mep.NEB(images)\n",
    "neb.interpolate()\n",
    "minimizer = ase.optimize.MDMin(neb)\n",
    "minimizer.run(fmax=0.1)"
   ]
  },
  {
   "cell_type": "code",
   "execution_count": 47,
   "id": "fe504c3f-31d1-490d-9576-899547e25677",
   "metadata": {},
   "outputs": [
    {
     "data": {
      "text/plain": [
       "<Popen: returncode: None args: ['/home/gu.huang/miniconda3/envs/pyiron/bin/p...>"
      ]
     },
     "execution_count": 47,
     "metadata": {},
     "output_type": "execute_result"
    },
    {
     "name": "stderr",
     "output_type": "stream",
     "text": [
      "Traceback (most recent call last):\n",
      "  File \"<frozen runpy>\", line 198, in _run_module_as_main\n",
      "  File \"<frozen runpy>\", line 88, in _run_code\n",
      "  File \"/home/gu.huang/miniconda3/envs/pyiron/lib/python3.12/site-packages/ase/gui/pipe.py\", line 32, in <module>\n",
      "    main()\n",
      "  File \"/home/gu.huang/miniconda3/envs/pyiron/lib/python3.12/site-packages/ase/gui/pipe.py\", line 28, in main\n",
      "    plt.show()\n",
      "  File \"/home/gu.huang/miniconda3/envs/pyiron/lib/python3.12/site-packages/matplotlib/pyplot.py\", line 527, in show\n",
      "    return _get_backend_mod().show(*args, **kwargs)\n",
      "           ^^^^^^^^^^^^^^^^^^^^^^^^^^^^^^^^^^^^^^^^\n",
      "  File \"/home/gu.huang/miniconda3/envs/pyiron/lib/python3.12/site-packages/matplotlib_inline/backend_inline.py\", line 90, in show\n",
      "    display(\n",
      "  File \"/home/gu.huang/miniconda3/envs/pyiron/lib/python3.12/site-packages/IPython/core/display_functions.py\", line 265, in display\n",
      "    print(*objs)\n",
      "ValueError: I/O operation on closed file.\n"
     ]
    }
   ],
   "source": [
    "view(images)"
   ]
  },
  {
   "cell_type": "code",
   "execution_count": 43,
   "id": "adde1047-bc50-4c3f-96b0-5f7dcdf01752",
   "metadata": {},
   "outputs": [
    {
     "data": {
      "text/plain": [
       "[<matplotlib.lines.Line2D at 0x74076835d4f0>]"
      ]
     },
     "execution_count": 43,
     "metadata": {},
     "output_type": "execute_result"
    },
    {
     "data": {
      "image/png": "[encoded data removed]",
      "text/plain": [
       "<Figure size 640x480 with 1 Axes>"
      ]
     },
     "metadata": {},
     "output_type": "display_data"
    }
   ],
   "source": [
    "energy_variation = [ i.get_potential_energy() for i in images]\n",
    "energy_variation = np.array(energy_variation)\n",
    "energy_variation -= energy_variation.min()\n",
    "\n",
    "plt.plot(energy_variation, \"o--\")"
   ]
  },
  {
   "cell_type": "code",
   "execution_count": null,
   "id": "c48f6465-d51f-4c49-a16e-b0b92d8260d9",
   "metadata": {},
   "outputs": [],
   "source": []
  }
 ],
 "metadata": {
  "kernelspec": {
   "display_name": "Python 3 (ipykernel)",
   "language": "python",
   "name": "python3"
  },
  "language_info": {
   "codemirror_mode": {
    "name": "ipython",
    "version": 3
   },
   "file_extension": ".py",
   "mimetype": "text/x-python",
   "name": "python",
   "nbconvert_exporter": "python",
   "pygments_lexer": "ipython3",
   "version": "3.12.3"
  }
 },
 "nbformat": 4,
 "nbformat_minor": 5
}
