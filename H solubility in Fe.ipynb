{
 "cells": [
  {
   "cell_type": "markdown",
   "id": "b672c62f-8fdb-492c-97a5-6dc71d9c67ca",
   "metadata": {},
   "source": [
    "### C. Hydrogen solubility and diffusivity in bulk α-iron"
   ]
  },
  {
   "cell_type": "code",
   "execution_count": 20,
   "id": "608e6d3a-c3ec-427c-a331-b63f0238577f",
   "metadata": {},
   "outputs": [],
   "source": [
    "import pyiron\n",
    "import ase.calculators\n",
    "import ase.optimize\n",
    "import ase.neb\n",
    "import ase.visualize\n",
    "import ase.build\n",
    "import matplotlib.pyplot as plt\n",
    "import numpy as np\n",
    "import scipy.optimize"
   ]
  },
  {
   "cell_type": "code",
   "execution_count": 2,
   "id": "06623ad6-ad02-4fc4-bc86-ee6873ee9a40",
   "metadata": {},
   "outputs": [],
   "source": [
    "potential =  'FeH-NNIP'"
   ]
  },
  {
   "cell_type": "markdown",
   "id": "5d7da7d6-08ac-45a0-8caf-bd366ab17573",
   "metadata": {},
   "source": [
    "1. solution energy\n",
    "\n",
    "$$E_s = E_{Fe+H} - E_{Fe}- E_{H_2}/2$$\n",
    "\n",
    "$E_{H_2}/2$: the energy of a gaseous $H_2$ molecule"
   ]
  },
  {
   "cell_type": "code",
   "execution_count": 16,
   "id": "1aa44084-cdca-4105-987f-86b06496cf7b",
   "metadata": {},
   "outputs": [
    {
     "name": "stdout",
     "output_type": "stream",
     "text": [
      "The job bulk was saved and received the ID: 10913\n"
     ]
    }
   ],
   "source": [
    "# calculation of E_Fe\n",
    "pr = pyiron.Project('solution_E')\n",
    "job = pr.create.job.Lammps('bulk', delete_existing_job=True)\n",
    "bulk = pr.create.structure.bulk('Fe', cubic=True).repeat([4,4,4])\n",
    "job.structure = bulk\n",
    "job.potential = potential\n",
    "job.calc_minimize(pressure=0.0)\n",
    "job.run(delete_existing_job=True)\n",
    "\n",
    "E_Fe = job.output.energy_tot[-1]"
   ]
  },
  {
   "cell_type": "code",
   "execution_count": 11,
   "id": "cc6fb6ff-32c1-4c5f-b2fd-89af780f6ef5",
   "metadata": {},
   "outputs": [
    {
     "name": "stdout",
     "output_type": "stream",
     "text": [
      "The job bulk_H_O was saved and received the ID: 10911\n"
     ]
    },
    {
     "data": {
      "text/plain": [
       "-1057.90317567852"
      ]
     },
     "execution_count": 11,
     "metadata": {},
     "output_type": "execute_result"
    }
   ],
   "source": [
    "# H at O-site\n",
    "cell = bulk.get_cell()\n",
    "bulk_H_O = bulk.copy()\n",
    "H = pr.create.structure.atoms('H', positions=[(2.87/2, 2.87, 2.87/2)], cell=cell)\n",
    "bulk_H_O += H\n",
    "bulk_H_O.plot3d()\n",
    "\n",
    "job = pr.create.job.Lammps('bulk_H_O', delete_existing_job=True)\n",
    "job.structure = bulk_H_O\n",
    "job.potential = potential\n",
    "job.calc_minimize(pressure=0.0)\n",
    "job.run(delete_existing_job=True)\n",
    "\n",
    "E_Fe_H_O = job.output.energy_tot[-1]\n",
    "E_Fe_H_O"
   ]
  },
  {
   "cell_type": "code",
   "execution_count": 14,
   "id": "ad3f3cc4-d85f-4182-97c1-f3c10d6da7be",
   "metadata": {},
   "outputs": [
    {
     "name": "stdout",
     "output_type": "stream",
     "text": [
      "The job bulk_H_T was saved and received the ID: 10912\n"
     ]
    },
    {
     "data": {
      "text/plain": [
       "-1058.06512033958"
      ]
     },
     "execution_count": 14,
     "metadata": {},
     "output_type": "execute_result"
    }
   ],
   "source": [
    "# H at T-site\n",
    "\n",
    "bulk_H_T = bulk.copy()\n",
    "H = pr.create.structure.atoms('H', positions=[(2.87/4*6, 2.87/4*8, 2.87/4*6-2.87/4)], cell=cell)\n",
    "bulk_H_T += H\n",
    "bulk_H_T.plot3d()\n",
    "\n",
    "job = pr.create.job.Lammps('bulk_H_T', delete_existing_job=True)\n",
    "job.structure = bulk_H_T\n",
    "job.potential = potential\n",
    "job.calc_minimize(pressure=0.0)\n",
    "job.run(delete_existing_job=True)\n",
    "\n",
    "E_Fe_H_T = job.output.energy_tot[-1]\n",
    "E_Fe_H_T"
   ]
  },
  {
   "cell_type": "code",
   "execution_count": 15,
   "id": "3d4ba6cf-a50c-43c2-ab89-4aefe3b29d70",
   "metadata": {},
   "outputs": [
    {
     "data": {
      "text/plain": [
       "-0.16194466106003347"
      ]
     },
     "execution_count": 15,
     "metadata": {},
     "output_type": "execute_result"
    }
   ],
   "source": [
    "E_Fe_H_T - E_Fe_H_O"
   ]
  },
  {
   "cell_type": "markdown",
   "id": "d7a752dd-fb52-494e-b628-ffc4aab23c33",
   "metadata": {},
   "source": [
    "-0.15300000000000002 in paper"
   ]
  },
  {
   "cell_type": "code",
   "execution_count": null,
   "id": "0001326b-692d-4ac6-b1c4-3f4b0e2992bc",
   "metadata": {},
   "outputs": [],
   "source": []
  },
  {
   "cell_type": "code",
   "execution_count": null,
   "id": "78609a16-0cd3-4aae-8dfd-389670f8a145",
   "metadata": {},
   "outputs": [],
   "source": []
  },
  {
   "cell_type": "code",
   "execution_count": null,
   "id": "12f994f1-51c8-4ac8-9be8-562251a9190a",
   "metadata": {},
   "outputs": [],
   "source": []
  },
  {
   "cell_type": "markdown",
   "id": "128be161-ed9b-4d33-b49f-06da3a76d376",
   "metadata": {},
   "source": [
    "### Old version"
   ]
  },
  {
   "cell_type": "code",
   "execution_count": 3,
   "id": "1a80bc03-0fcb-409f-ba46-f2d4375744df",
   "metadata": {
    "collapsed": true,
    "jupyter": {
     "outputs_hidden": true
    }
   },
   "outputs": [
    {
     "name": "stdout",
     "output_type": "stream",
     "text": [
      "The job bulk was saved and received the ID: 10908\n"
     ]
    },
    {
     "ename": "KeyboardInterrupt",
     "evalue": "",
     "output_type": "error",
     "traceback": [
      "\u001b[0;31m---------------------------------------------------------------------------\u001b[0m",
      "\u001b[0;31mKeyboardInterrupt\u001b[0m                         Traceback (most recent call last)",
      "Cell \u001b[0;32mIn[3], line 8\u001b[0m\n\u001b[1;32m      6\u001b[0m job\u001b[38;5;241m.\u001b[39mpotential \u001b[38;5;241m=\u001b[39m potential\n\u001b[1;32m      7\u001b[0m job\u001b[38;5;241m.\u001b[39mcalc_minimize(pressure\u001b[38;5;241m=\u001b[39m\u001b[38;5;241m0.0\u001b[39m)\n\u001b[0;32m----> 8\u001b[0m \u001b[43mjob\u001b[49m\u001b[38;5;241;43m.\u001b[39;49m\u001b[43mrun\u001b[49m\u001b[43m(\u001b[49m\u001b[43mdelete_existing_job\u001b[49m\u001b[38;5;241;43m=\u001b[39;49m\u001b[38;5;28;43;01mTrue\u001b[39;49;00m\u001b[43m)\u001b[49m\n",
      "File \u001b[0;32m~/miniconda3/envs/pyiron/lib/python3.12/site-packages/pyiron_base/utils/deprecate.py:171\u001b[0m, in \u001b[0;36mDeprecator.__deprecate_argument.<locals>.decorated\u001b[0;34m(*args, **kwargs)\u001b[0m\n\u001b[1;32m    161\u001b[0m     \u001b[38;5;28;01mif\u001b[39;00m kw \u001b[38;5;129;01min\u001b[39;00m \u001b[38;5;28mself\u001b[39m\u001b[38;5;241m.\u001b[39marguments:\n\u001b[1;32m    162\u001b[0m         warnings\u001b[38;5;241m.\u001b[39mwarn(\n\u001b[1;32m    163\u001b[0m             message_format\u001b[38;5;241m.\u001b[39mformat(\n\u001b[1;32m    164\u001b[0m                 \u001b[38;5;124m\"\u001b[39m\u001b[38;5;132;01m{}\u001b[39;00m\u001b[38;5;124m.\u001b[39m\u001b[38;5;132;01m{}\u001b[39;00m\u001b[38;5;124m(\u001b[39m\u001b[38;5;132;01m{}\u001b[39;00m\u001b[38;5;124m=\u001b[39m\u001b[38;5;132;01m{}\u001b[39;00m\u001b[38;5;124m)\u001b[39m\u001b[38;5;124m\"\u001b[39m\u001b[38;5;241m.\u001b[39mformat(\n\u001b[0;32m   (...)\u001b[0m\n\u001b[1;32m    169\u001b[0m             stacklevel\u001b[38;5;241m=\u001b[39m\u001b[38;5;241m2\u001b[39m,\n\u001b[1;32m    170\u001b[0m         )\n\u001b[0;32m--> 171\u001b[0m \u001b[38;5;28;01mreturn\u001b[39;00m \u001b[43mfunction\u001b[49m\u001b[43m(\u001b[49m\u001b[38;5;241;43m*\u001b[39;49m\u001b[43margs\u001b[49m\u001b[43m,\u001b[49m\u001b[43m \u001b[49m\u001b[38;5;241;43m*\u001b[39;49m\u001b[38;5;241;43m*\u001b[39;49m\u001b[43mkwargs\u001b[49m\u001b[43m)\u001b[49m\n",
      "File \u001b[0;32m~/miniconda3/envs/pyiron/lib/python3.12/site-packages/pyiron_base/jobs/job/generic.py:777\u001b[0m, in \u001b[0;36mGenericJob.run\u001b[0;34m(self, delete_existing_job, repair, debug, run_mode, run_again)\u001b[0m\n\u001b[1;32m    775\u001b[0m     \u001b[38;5;28mself\u001b[39m\u001b[38;5;241m.\u001b[39m_run_if_repair()\n\u001b[1;32m    776\u001b[0m \u001b[38;5;28;01melif\u001b[39;00m status \u001b[38;5;241m==\u001b[39m \u001b[38;5;124m\"\u001b[39m\u001b[38;5;124minitialized\u001b[39m\u001b[38;5;124m\"\u001b[39m:\n\u001b[0;32m--> 777\u001b[0m     \u001b[38;5;28;43mself\u001b[39;49m\u001b[38;5;241;43m.\u001b[39;49m\u001b[43m_run_if_new\u001b[49m\u001b[43m(\u001b[49m\u001b[43mdebug\u001b[49m\u001b[38;5;241;43m=\u001b[39;49m\u001b[43mdebug\u001b[49m\u001b[43m)\u001b[49m\n\u001b[1;32m    778\u001b[0m \u001b[38;5;28;01melif\u001b[39;00m status \u001b[38;5;241m==\u001b[39m \u001b[38;5;124m\"\u001b[39m\u001b[38;5;124mcreated\u001b[39m\u001b[38;5;124m\"\u001b[39m:\n\u001b[1;32m    779\u001b[0m     \u001b[38;5;28mself\u001b[39m\u001b[38;5;241m.\u001b[39m_run_if_created()\n",
      "File \u001b[0;32m~/miniconda3/envs/pyiron/lib/python3.12/site-packages/pyiron_base/jobs/job/generic.py:1294\u001b[0m, in \u001b[0;36mGenericJob._run_if_new\u001b[0;34m(self, debug)\u001b[0m\n\u001b[1;32m   1286\u001b[0m \u001b[38;5;28;01mdef\u001b[39;00m \u001b[38;5;21m_run_if_new\u001b[39m(\u001b[38;5;28mself\u001b[39m, debug\u001b[38;5;241m=\u001b[39m\u001b[38;5;28;01mFalse\u001b[39;00m):\n\u001b[1;32m   1287\u001b[0m \u001b[38;5;250m    \u001b[39m\u001b[38;5;124;03m\"\"\"\u001b[39;00m\n\u001b[1;32m   1288\u001b[0m \u001b[38;5;124;03m    Internal helper function the run if new function is called when the job status is 'initialized'. It prepares\u001b[39;00m\n\u001b[1;32m   1289\u001b[0m \u001b[38;5;124;03m    the hdf5 file and the corresponding directory structure.\u001b[39;00m\n\u001b[0;32m   (...)\u001b[0m\n\u001b[1;32m   1292\u001b[0m \u001b[38;5;124;03m        debug (bool): Debug Mode\u001b[39;00m\n\u001b[1;32m   1293\u001b[0m \u001b[38;5;124;03m    \"\"\"\u001b[39;00m\n\u001b[0;32m-> 1294\u001b[0m     \u001b[43mrun_job_with_status_initialized\u001b[49m\u001b[43m(\u001b[49m\u001b[43mjob\u001b[49m\u001b[38;5;241;43m=\u001b[39;49m\u001b[38;5;28;43mself\u001b[39;49m\u001b[43m,\u001b[49m\u001b[43m \u001b[49m\u001b[43mdebug\u001b[49m\u001b[38;5;241;43m=\u001b[39;49m\u001b[43mdebug\u001b[49m\u001b[43m)\u001b[49m\n",
      "File \u001b[0;32m~/miniconda3/envs/pyiron/lib/python3.12/site-packages/pyiron_base/jobs/job/runfunction.py:92\u001b[0m, in \u001b[0;36mrun_job_with_status_initialized\u001b[0;34m(job, debug)\u001b[0m\n\u001b[1;32m     90\u001b[0m \u001b[38;5;28;01melse\u001b[39;00m:\n\u001b[1;32m     91\u001b[0m     job\u001b[38;5;241m.\u001b[39msave()\n\u001b[0;32m---> 92\u001b[0m     \u001b[43mjob\u001b[49m\u001b[38;5;241;43m.\u001b[39;49m\u001b[43mrun\u001b[49m\u001b[43m(\u001b[49m\u001b[43m)\u001b[49m\n",
      "File \u001b[0;32m~/miniconda3/envs/pyiron/lib/python3.12/site-packages/pyiron_base/utils/deprecate.py:171\u001b[0m, in \u001b[0;36mDeprecator.__deprecate_argument.<locals>.decorated\u001b[0;34m(*args, **kwargs)\u001b[0m\n\u001b[1;32m    161\u001b[0m     \u001b[38;5;28;01mif\u001b[39;00m kw \u001b[38;5;129;01min\u001b[39;00m \u001b[38;5;28mself\u001b[39m\u001b[38;5;241m.\u001b[39marguments:\n\u001b[1;32m    162\u001b[0m         warnings\u001b[38;5;241m.\u001b[39mwarn(\n\u001b[1;32m    163\u001b[0m             message_format\u001b[38;5;241m.\u001b[39mformat(\n\u001b[1;32m    164\u001b[0m                 \u001b[38;5;124m\"\u001b[39m\u001b[38;5;132;01m{}\u001b[39;00m\u001b[38;5;124m.\u001b[39m\u001b[38;5;132;01m{}\u001b[39;00m\u001b[38;5;124m(\u001b[39m\u001b[38;5;132;01m{}\u001b[39;00m\u001b[38;5;124m=\u001b[39m\u001b[38;5;132;01m{}\u001b[39;00m\u001b[38;5;124m)\u001b[39m\u001b[38;5;124m\"\u001b[39m\u001b[38;5;241m.\u001b[39mformat(\n\u001b[0;32m   (...)\u001b[0m\n\u001b[1;32m    169\u001b[0m             stacklevel\u001b[38;5;241m=\u001b[39m\u001b[38;5;241m2\u001b[39m,\n\u001b[1;32m    170\u001b[0m         )\n\u001b[0;32m--> 171\u001b[0m \u001b[38;5;28;01mreturn\u001b[39;00m \u001b[43mfunction\u001b[49m\u001b[43m(\u001b[49m\u001b[38;5;241;43m*\u001b[39;49m\u001b[43margs\u001b[49m\u001b[43m,\u001b[49m\u001b[43m \u001b[49m\u001b[38;5;241;43m*\u001b[39;49m\u001b[38;5;241;43m*\u001b[39;49m\u001b[43mkwargs\u001b[49m\u001b[43m)\u001b[49m\n",
      "File \u001b[0;32m~/miniconda3/envs/pyiron/lib/python3.12/site-packages/pyiron_base/jobs/job/generic.py:779\u001b[0m, in \u001b[0;36mGenericJob.run\u001b[0;34m(self, delete_existing_job, repair, debug, run_mode, run_again)\u001b[0m\n\u001b[1;32m    777\u001b[0m     \u001b[38;5;28mself\u001b[39m\u001b[38;5;241m.\u001b[39m_run_if_new(debug\u001b[38;5;241m=\u001b[39mdebug)\n\u001b[1;32m    778\u001b[0m \u001b[38;5;28;01melif\u001b[39;00m status \u001b[38;5;241m==\u001b[39m \u001b[38;5;124m\"\u001b[39m\u001b[38;5;124mcreated\u001b[39m\u001b[38;5;124m\"\u001b[39m:\n\u001b[0;32m--> 779\u001b[0m     \u001b[38;5;28;43mself\u001b[39;49m\u001b[38;5;241;43m.\u001b[39;49m\u001b[43m_run_if_created\u001b[49m\u001b[43m(\u001b[49m\u001b[43m)\u001b[49m\n\u001b[1;32m    780\u001b[0m \u001b[38;5;28;01melif\u001b[39;00m status \u001b[38;5;241m==\u001b[39m \u001b[38;5;124m\"\u001b[39m\u001b[38;5;124msubmitted\u001b[39m\u001b[38;5;124m\"\u001b[39m:\n\u001b[1;32m    781\u001b[0m     run_job_with_status_submitted(job\u001b[38;5;241m=\u001b[39m\u001b[38;5;28mself\u001b[39m)\n",
      "File \u001b[0;32m~/miniconda3/envs/pyiron/lib/python3.12/site-packages/pyiron_base/jobs/job/generic.py:1305\u001b[0m, in \u001b[0;36mGenericJob._run_if_created\u001b[0;34m(self)\u001b[0m\n\u001b[1;32m   1296\u001b[0m \u001b[38;5;28;01mdef\u001b[39;00m \u001b[38;5;21m_run_if_created\u001b[39m(\u001b[38;5;28mself\u001b[39m):\n\u001b[1;32m   1297\u001b[0m \u001b[38;5;250m    \u001b[39m\u001b[38;5;124;03m\"\"\"\u001b[39;00m\n\u001b[1;32m   1298\u001b[0m \u001b[38;5;124;03m    Internal helper function the run if created function is called when the job status is 'created'. It executes\u001b[39;00m\n\u001b[1;32m   1299\u001b[0m \u001b[38;5;124;03m    the simulation, either in modal mode, meaning waiting for the simulation to finish, manually, or submits the\u001b[39;00m\n\u001b[0;32m   (...)\u001b[0m\n\u001b[1;32m   1303\u001b[0m \u001b[38;5;124;03m        int: Queue ID - if the job was send to the queue\u001b[39;00m\n\u001b[1;32m   1304\u001b[0m \u001b[38;5;124;03m    \"\"\"\u001b[39;00m\n\u001b[0;32m-> 1305\u001b[0m     \u001b[38;5;28;01mreturn\u001b[39;00m \u001b[43mrun_job_with_status_created\u001b[49m\u001b[43m(\u001b[49m\u001b[43mjob\u001b[49m\u001b[38;5;241;43m=\u001b[39;49m\u001b[38;5;28;43mself\u001b[39;49m\u001b[43m)\u001b[49m\n",
      "File \u001b[0;32m~/miniconda3/envs/pyiron/lib/python3.12/site-packages/pyiron_base/jobs/job/runfunction.py:115\u001b[0m, in \u001b[0;36mrun_job_with_status_created\u001b[0;34m(job)\u001b[0m\n\u001b[1;32m    113\u001b[0m     run_job_with_runmode_manually(job\u001b[38;5;241m=\u001b[39mjob, _manually_print\u001b[38;5;241m=\u001b[39m\u001b[38;5;28;01mTrue\u001b[39;00m)\n\u001b[1;32m    114\u001b[0m \u001b[38;5;28;01melif\u001b[39;00m job\u001b[38;5;241m.\u001b[39mserver\u001b[38;5;241m.\u001b[39mrun_mode\u001b[38;5;241m.\u001b[39mmodal:\n\u001b[0;32m--> 115\u001b[0m     \u001b[43mjob\u001b[49m\u001b[38;5;241;43m.\u001b[39;49m\u001b[43mrun_static\u001b[49m\u001b[43m(\u001b[49m\u001b[43m)\u001b[49m\n\u001b[1;32m    116\u001b[0m \u001b[38;5;28;01melif\u001b[39;00m job\u001b[38;5;241m.\u001b[39mserver\u001b[38;5;241m.\u001b[39mrun_mode\u001b[38;5;241m.\u001b[39msrun:\n\u001b[1;32m    117\u001b[0m     run_job_with_runmode_srun(job\u001b[38;5;241m=\u001b[39mjob)\n",
      "File \u001b[0;32m~/miniconda3/envs/pyiron/lib/python3.12/site-packages/pyiron_base/jobs/job/generic.py:813\u001b[0m, in \u001b[0;36mGenericJob.run_static\u001b[0;34m(self)\u001b[0m\n\u001b[1;32m    809\u001b[0m \u001b[38;5;28;01mdef\u001b[39;00m \u001b[38;5;21mrun_static\u001b[39m(\u001b[38;5;28mself\u001b[39m):\n\u001b[1;32m    810\u001b[0m \u001b[38;5;250m    \u001b[39m\u001b[38;5;124;03m\"\"\"\u001b[39;00m\n\u001b[1;32m    811\u001b[0m \u001b[38;5;124;03m    The run static function is called by run to execute the simulation.\u001b[39;00m\n\u001b[1;32m    812\u001b[0m \u001b[38;5;124;03m    \"\"\"\u001b[39;00m\n\u001b[0;32m--> 813\u001b[0m     \u001b[38;5;28;01mreturn\u001b[39;00m \u001b[43mexecute_job_with_external_executable\u001b[49m\u001b[43m(\u001b[49m\u001b[43mjob\u001b[49m\u001b[38;5;241;43m=\u001b[39;49m\u001b[38;5;28;43mself\u001b[39;49m\u001b[43m)\u001b[49m\n",
      "File \u001b[0;32m~/miniconda3/envs/pyiron/lib/python3.12/site-packages/pyiron_base/jobs/job/runfunction.py:610\u001b[0m, in \u001b[0;36mrun_time_decorator.<locals>.wrapper\u001b[0;34m(job)\u001b[0m\n\u001b[1;32m    608\u001b[0m \u001b[38;5;28;01mif\u001b[39;00m \u001b[38;5;129;01mnot\u001b[39;00m state\u001b[38;5;241m.\u001b[39mdatabase\u001b[38;5;241m.\u001b[39mdatabase_is_disabled \u001b[38;5;129;01mand\u001b[39;00m job\u001b[38;5;241m.\u001b[39mjob_id \u001b[38;5;129;01mis\u001b[39;00m \u001b[38;5;129;01mnot\u001b[39;00m \u001b[38;5;28;01mNone\u001b[39;00m:\n\u001b[1;32m    609\u001b[0m     job\u001b[38;5;241m.\u001b[39mproject\u001b[38;5;241m.\u001b[39mdb\u001b[38;5;241m.\u001b[39mitem_update({\u001b[38;5;124m\"\u001b[39m\u001b[38;5;124mtimestart\u001b[39m\u001b[38;5;124m\"\u001b[39m: datetime\u001b[38;5;241m.\u001b[39mnow()}, job\u001b[38;5;241m.\u001b[39mjob_id)\n\u001b[0;32m--> 610\u001b[0m     output \u001b[38;5;241m=\u001b[39m \u001b[43mfunc\u001b[49m\u001b[43m(\u001b[49m\u001b[43mjob\u001b[49m\u001b[43m)\u001b[49m\n\u001b[1;32m    611\u001b[0m     job\u001b[38;5;241m.\u001b[39mproject\u001b[38;5;241m.\u001b[39mdb\u001b[38;5;241m.\u001b[39mitem_update(job\u001b[38;5;241m.\u001b[39m_runtime(), job\u001b[38;5;241m.\u001b[39mjob_id)\n\u001b[1;32m    612\u001b[0m \u001b[38;5;28;01melse\u001b[39;00m:\n",
      "File \u001b[0;32m~/miniconda3/envs/pyiron/lib/python3.12/site-packages/pyiron_base/jobs/job/runfunction.py:644\u001b[0m, in \u001b[0;36mexecute_job_with_external_executable\u001b[0;34m(job)\u001b[0m\n\u001b[1;32m    639\u001b[0m \u001b[38;5;28;01mif\u001b[39;00m (\n\u001b[1;32m    640\u001b[0m     job\u001b[38;5;241m.\u001b[39mserver\u001b[38;5;241m.\u001b[39mconda_environment_name \u001b[38;5;129;01mis\u001b[39;00m \u001b[38;5;28;01mNone\u001b[39;00m\n\u001b[1;32m    641\u001b[0m     \u001b[38;5;129;01mand\u001b[39;00m job\u001b[38;5;241m.\u001b[39mserver\u001b[38;5;241m.\u001b[39mconda_environment_path \u001b[38;5;129;01mis\u001b[39;00m \u001b[38;5;28;01mNone\u001b[39;00m\n\u001b[1;32m    642\u001b[0m ):\n\u001b[1;32m    643\u001b[0m     \u001b[38;5;28;01mtry\u001b[39;00m:\n\u001b[0;32m--> 644\u001b[0m         out \u001b[38;5;241m=\u001b[39m \u001b[43msubprocess\u001b[49m\u001b[38;5;241;43m.\u001b[39;49m\u001b[43mrun\u001b[49m\u001b[43m(\u001b[49m\n\u001b[1;32m    645\u001b[0m \u001b[43m            \u001b[49m\u001b[43mexecutable\u001b[49m\u001b[43m,\u001b[49m\n\u001b[1;32m    646\u001b[0m \u001b[43m            \u001b[49m\u001b[43mcwd\u001b[49m\u001b[38;5;241;43m=\u001b[39;49m\u001b[43mjob\u001b[49m\u001b[38;5;241;43m.\u001b[39;49m\u001b[43mproject_hdf5\u001b[49m\u001b[38;5;241;43m.\u001b[39;49m\u001b[43mworking_directory\u001b[49m\u001b[43m,\u001b[49m\n\u001b[1;32m    647\u001b[0m \u001b[43m            \u001b[49m\u001b[43mshell\u001b[49m\u001b[38;5;241;43m=\u001b[39;49m\u001b[43mshell\u001b[49m\u001b[43m,\u001b[49m\n\u001b[1;32m    648\u001b[0m \u001b[43m            \u001b[49m\u001b[43mstdout\u001b[49m\u001b[38;5;241;43m=\u001b[39;49m\u001b[43msubprocess\u001b[49m\u001b[38;5;241;43m.\u001b[39;49m\u001b[43mPIPE\u001b[49m\u001b[43m,\u001b[49m\n\u001b[1;32m    649\u001b[0m \u001b[43m            \u001b[49m\u001b[43mstderr\u001b[49m\u001b[38;5;241;43m=\u001b[39;49m\u001b[43msubprocess\u001b[49m\u001b[38;5;241;43m.\u001b[39;49m\u001b[43mSTDOUT\u001b[49m\u001b[43m,\u001b[49m\n\u001b[1;32m    650\u001b[0m \u001b[43m            \u001b[49m\u001b[43muniversal_newlines\u001b[49m\u001b[38;5;241;43m=\u001b[39;49m\u001b[38;5;28;43;01mTrue\u001b[39;49;00m\u001b[43m,\u001b[49m\n\u001b[1;32m    651\u001b[0m \u001b[43m            \u001b[49m\u001b[43mcheck\u001b[49m\u001b[38;5;241;43m=\u001b[39;49m\u001b[38;5;28;43;01mTrue\u001b[39;49;00m\u001b[43m,\u001b[49m\n\u001b[1;32m    652\u001b[0m \u001b[43m            \u001b[49m\u001b[43menv\u001b[49m\u001b[38;5;241;43m=\u001b[39;49m\u001b[43mos\u001b[49m\u001b[38;5;241;43m.\u001b[39;49m\u001b[43menviron\u001b[49m\u001b[38;5;241;43m.\u001b[39;49m\u001b[43mcopy\u001b[49m\u001b[43m(\u001b[49m\u001b[43m)\u001b[49m\u001b[43m,\u001b[49m\n\u001b[1;32m    653\u001b[0m \u001b[43m        \u001b[49m\u001b[43m)\u001b[49m\u001b[38;5;241m.\u001b[39mstdout\n\u001b[1;32m    654\u001b[0m     \u001b[38;5;28;01mexcept\u001b[39;00m (subprocess\u001b[38;5;241m.\u001b[39mCalledProcessError, \u001b[38;5;167;01mFileNotFoundError\u001b[39;00m) \u001b[38;5;28;01mas\u001b[39;00m e:\n\u001b[1;32m    655\u001b[0m         out, job_crashed \u001b[38;5;241m=\u001b[39m handle_failed_job(job\u001b[38;5;241m=\u001b[39mjob, error\u001b[38;5;241m=\u001b[39me)\n",
      "File \u001b[0;32m~/miniconda3/envs/pyiron/lib/python3.12/subprocess.py:550\u001b[0m, in \u001b[0;36mrun\u001b[0;34m(input, capture_output, timeout, check, *popenargs, **kwargs)\u001b[0m\n\u001b[1;32m    548\u001b[0m \u001b[38;5;28;01mwith\u001b[39;00m Popen(\u001b[38;5;241m*\u001b[39mpopenargs, \u001b[38;5;241m*\u001b[39m\u001b[38;5;241m*\u001b[39mkwargs) \u001b[38;5;28;01mas\u001b[39;00m process:\n\u001b[1;32m    549\u001b[0m     \u001b[38;5;28;01mtry\u001b[39;00m:\n\u001b[0;32m--> 550\u001b[0m         stdout, stderr \u001b[38;5;241m=\u001b[39m \u001b[43mprocess\u001b[49m\u001b[38;5;241;43m.\u001b[39;49m\u001b[43mcommunicate\u001b[49m\u001b[43m(\u001b[49m\u001b[38;5;28;43minput\u001b[39;49m\u001b[43m,\u001b[49m\u001b[43m \u001b[49m\u001b[43mtimeout\u001b[49m\u001b[38;5;241;43m=\u001b[39;49m\u001b[43mtimeout\u001b[49m\u001b[43m)\u001b[49m\n\u001b[1;32m    551\u001b[0m     \u001b[38;5;28;01mexcept\u001b[39;00m TimeoutExpired \u001b[38;5;28;01mas\u001b[39;00m exc:\n\u001b[1;32m    552\u001b[0m         process\u001b[38;5;241m.\u001b[39mkill()\n",
      "File \u001b[0;32m~/miniconda3/envs/pyiron/lib/python3.12/subprocess.py:1196\u001b[0m, in \u001b[0;36mPopen.communicate\u001b[0;34m(self, input, timeout)\u001b[0m\n\u001b[1;32m   1194\u001b[0m     \u001b[38;5;28mself\u001b[39m\u001b[38;5;241m.\u001b[39m_stdin_write(\u001b[38;5;28minput\u001b[39m)\n\u001b[1;32m   1195\u001b[0m \u001b[38;5;28;01melif\u001b[39;00m \u001b[38;5;28mself\u001b[39m\u001b[38;5;241m.\u001b[39mstdout:\n\u001b[0;32m-> 1196\u001b[0m     stdout \u001b[38;5;241m=\u001b[39m \u001b[38;5;28;43mself\u001b[39;49m\u001b[38;5;241;43m.\u001b[39;49m\u001b[43mstdout\u001b[49m\u001b[38;5;241;43m.\u001b[39;49m\u001b[43mread\u001b[49m\u001b[43m(\u001b[49m\u001b[43m)\u001b[49m\n\u001b[1;32m   1197\u001b[0m     \u001b[38;5;28mself\u001b[39m\u001b[38;5;241m.\u001b[39mstdout\u001b[38;5;241m.\u001b[39mclose()\n\u001b[1;32m   1198\u001b[0m \u001b[38;5;28;01melif\u001b[39;00m \u001b[38;5;28mself\u001b[39m\u001b[38;5;241m.\u001b[39mstderr:\n",
      "File \u001b[0;32m~/miniconda3/envs/pyiron/lib/python3.12/site-packages/pyiron_base/state/signal.py:31\u001b[0m, in \u001b[0;36mcatch_signals.<locals>.handler\u001b[0;34m(sig, frame)\u001b[0m\n\u001b[1;32m     29\u001b[0m cleanup(sig)\n\u001b[1;32m     30\u001b[0m \u001b[38;5;28;01mif\u001b[39;00m sig \u001b[38;5;241m==\u001b[39m signal\u001b[38;5;241m.\u001b[39mSIGINT:\n\u001b[0;32m---> 31\u001b[0m     \u001b[38;5;28;01mraise\u001b[39;00m \u001b[38;5;167;01mKeyboardInterrupt\u001b[39;00m()\n\u001b[1;32m     32\u001b[0m \u001b[38;5;28;01melif\u001b[39;00m sig \u001b[38;5;129;01min\u001b[39;00m (signal\u001b[38;5;241m.\u001b[39mSIGTERM, signal\u001b[38;5;241m.\u001b[39mSIGABRT):\n\u001b[1;32m     33\u001b[0m     sys\u001b[38;5;241m.\u001b[39mexit(\u001b[38;5;241m128\u001b[39m \u001b[38;5;241m&\u001b[39m sig)\n",
      "\u001b[0;31mKeyboardInterrupt\u001b[0m: "
     ]
    }
   ],
   "source": [
    "# calculation of E_Fe\n",
    "pr = pyiron.Project('solution_E')\n",
    "job = pr.create.job.Lammps('bulk', delete_existing_job=True)\n",
    "bulk = pr.create.structure.bulk('Fe', cubic=True).repeat([4,4,4])\n",
    "job.structure = bulk\n",
    "job.potential = potential\n",
    "job.calc_minimize(pressure=0.0)\n",
    "job.run(delete_existing_job=True)"
   ]
  },
  {
   "cell_type": "code",
   "execution_count": 23,
   "id": "8bb3a4b3-23f8-4556-be2d-ac8d595181af",
   "metadata": {},
   "outputs": [],
   "source": [
    "E_Fe = job.output.energy_tot[-1]\n",
    "bulk = job.get_structure(-1)\n",
    "cell = bulk.get_cell()"
   ]
  },
  {
   "cell_type": "code",
   "execution_count": 37,
   "id": "503e9655-9daf-4be0-9a5f-6cfe762912f6",
   "metadata": {},
   "outputs": [
    {
     "data": {
      "application/vnd.jupyter.widget-view+json": {
       "model_id": "fca16aa8c68c4fe19f62c6fa3543f2a1",
       "version_major": 2,
       "version_minor": 0
      },
      "text/plain": [
       "NGLWidget()"
      ]
     },
     "metadata": {},
     "output_type": "display_data"
    }
   ],
   "source": [
    "# H at O-site\n",
    "bulk_H_O = bulk.copy()\n",
    "H = pr.create.structure.atoms('H', positions=[(2.83/2, 2.83, 2.83/2)], cell=cell)\n",
    "bulk_H_O += H\n",
    "bulk_H_O.plot3d()"
   ]
  },
  {
   "cell_type": "code",
   "execution_count": 38,
   "id": "7f76ffbd-4910-4ebf-ae7a-f203ddc45a0e",
   "metadata": {},
   "outputs": [
    {
     "name": "stdout",
     "output_type": "stream",
     "text": [
      "The job bulk_H_O was saved and received the ID: 10595\n"
     ]
    }
   ],
   "source": [
    "job = pr.create.job.Lammps('bulk_H_O', delete_existing_job=True)\n",
    "job.structure = bulk_H_O\n",
    "job.potential = potential\n",
    "job.calc_minimize()\n",
    "job.run(delete_existing_job=True)"
   ]
  },
  {
   "cell_type": "code",
   "execution_count": 39,
   "id": "f9c62c3f-18b9-4f5d-8baf-4a428ae2005c",
   "metadata": {},
   "outputs": [
    {
     "data": {
      "text/plain": [
       "-448.064760912784"
      ]
     },
     "execution_count": 39,
     "metadata": {},
     "output_type": "execute_result"
    }
   ],
   "source": [
    "E_Fe_H_O = job.output.energy_tot[-1]\n",
    "E_Fe_H_O"
   ]
  },
  {
   "cell_type": "code",
   "execution_count": 40,
   "id": "8c2562ad-38f6-45eb-8aa8-24e09bca3559",
   "metadata": {},
   "outputs": [
    {
     "data": {
      "text/plain": [
       "-3.021180453103966"
      ]
     },
     "execution_count": 40,
     "metadata": {},
     "output_type": "execute_result"
    }
   ],
   "source": [
    "E_Fe_H_O - E_Fe"
   ]
  },
  {
   "cell_type": "code",
   "execution_count": 41,
   "id": "ee2564ce-91f9-4a4a-ace3-d3fe5b68b7e8",
   "metadata": {},
   "outputs": [
    {
     "data": {
      "application/vnd.jupyter.widget-view+json": {
       "model_id": "81b91cfab61d49909df3e1c90a88fb2f",
       "version_major": 2,
       "version_minor": 0
      },
      "text/plain": [
       "NGLWidget()"
      ]
     },
     "metadata": {},
     "output_type": "display_data"
    }
   ],
   "source": [
    "# H at T-site\n",
    "\n",
    "bulk_H_T = bulk.copy()\n",
    "H = pr.create.structure.atoms('H', positions=[(2.83/4*6, 2.83/4*8, 2.83/4*6-2.83/4)], cell=cell)\n",
    "bulk_H_T += H\n",
    "bulk_H_T.plot3d()"
   ]
  },
  {
   "cell_type": "code",
   "execution_count": 42,
   "id": "64659109-10b3-4a93-b48f-f7e4d0758fe1",
   "metadata": {},
   "outputs": [
    {
     "name": "stdout",
     "output_type": "stream",
     "text": [
      "The job bulk_H_T was saved and received the ID: 10596\n"
     ]
    }
   ],
   "source": [
    "job = pr.create.job.Lammps('bulk_H_T', delete_existing_job=True)\n",
    "job.structure = bulk_H_T\n",
    "job.potential = potential\n",
    "job.calc_minimize()\n",
    "job.run(delete_existing_job=True)"
   ]
  },
  {
   "cell_type": "code",
   "execution_count": 43,
   "id": "b8bb9fc3-427a-4fe6-a88c-d1be293d0546",
   "metadata": {},
   "outputs": [
    {
     "data": {
      "text/plain": [
       "-448.175938372699"
      ]
     },
     "execution_count": 43,
     "metadata": {},
     "output_type": "execute_result"
    }
   ],
   "source": [
    "E_Fe_H_T = job.output.energy_tot[-1]\n",
    "E_Fe_H_T"
   ]
  },
  {
   "cell_type": "code",
   "execution_count": 51,
   "id": "45befa8c-665c-4f57-bb06-eacbdc757f22",
   "metadata": {},
   "outputs": [
    {
     "data": {
      "text/plain": [
       "-0.1111774599150408"
      ]
     },
     "execution_count": 51,
     "metadata": {},
     "output_type": "execute_result"
    }
   ],
   "source": [
    "E_Fe_H_T -E_Fe_H_O"
   ]
  },
  {
   "cell_type": "code",
   "execution_count": 46,
   "id": "ba989085-cef6-4742-909b-d08c17e1b9d5",
   "metadata": {},
   "outputs": [
    {
     "data": {
      "text/plain": [
       "-0.15300000000000002"
      ]
     },
     "execution_count": 46,
     "metadata": {},
     "output_type": "execute_result"
    }
   ],
   "source": [
    "0.236 - 0.389\n",
    "# E difference on paper"
   ]
  },
  {
   "cell_type": "code",
   "execution_count": 105,
   "id": "f1946b26-4cf6-49f3-848e-66a84e87dfa2",
   "metadata": {
    "scrolled": true
   },
   "outputs": [
    {
     "data": {
      "application/vnd.jupyter.widget-view+json": {
       "model_id": "b20ad281158a4abea6ab24eadcbd35a1",
       "version_major": 2,
       "version_minor": 0
      },
      "text/plain": [
       "NGLWidget(max_frame=1)"
      ]
     },
     "metadata": {},
     "output_type": "display_data"
    }
   ],
   "source": [
    "job = pr.load('bulk_H_T')\n",
    "job.animate_structures()"
   ]
  },
  {
   "cell_type": "code",
   "execution_count": 106,
   "id": "aa63ab61-757e-4449-ac13-5c83a8fe6e78",
   "metadata": {},
   "outputs": [
    {
     "data": {
      "text/plain": [
       "array([-447.9359933 , -448.17593837])"
      ]
     },
     "execution_count": 106,
     "metadata": {},
     "output_type": "execute_result"
    }
   ],
   "source": [
    "job.output.energy_tot"
   ]
  },
  {
   "cell_type": "markdown",
   "id": "16d58226-f495-42dd-bad0-a50295c2c67f",
   "metadata": {},
   "source": [
    "? \\\n",
    "$E_{Fe+H}$ = ...\\\n",
    "after inserting H, $E_{Fe+H}$ should be the energy before or after relaxation\\\n",
    "$E_{H_2}$ ~ 4.5 eV?"
   ]
  },
  {
   "cell_type": "code",
   "execution_count": 107,
   "id": "1a6fc47a-5d21-482e-b575-dc62a9ada10b",
   "metadata": {},
   "outputs": [
    {
     "data": {
      "text/plain": [
       "-0.75238956341002"
      ]
     },
     "execution_count": 107,
     "metadata": {},
     "output_type": "execute_result"
    }
   ],
   "source": [
    "job = pr.load('bulk_H_O')\n",
    "E_H_O_ms = job.output.energy_tot[0]\n",
    "job = pr.load('bulk_H_T')\n",
    "E_H_T_ms = job.output.energy_tot[-1]\n",
    "\n",
    "E_H_T_ms - E_H_O_ms"
   ]
  },
  {
   "cell_type": "code",
   "execution_count": 101,
   "id": "df760f7c-3173-4d79-9cf4-0e5040e389a3",
   "metadata": {},
   "outputs": [],
   "source": [
    "# print(E_Fe_H_T -  E_Fe)\n",
    "# print(E_Fe_H_O -  E_Fe)\n",
    "# E_Fe_H_T - E_Fe_H_O"
   ]
  },
  {
   "cell_type": "markdown",
   "id": "99c1de9f-192c-4d0a-9edc-5cfebc3051e5",
   "metadata": {},
   "source": [
    "2. Diffusion energy barrier (T to T)"
   ]
  },
  {
   "cell_type": "code",
   "execution_count": 60,
   "id": "3e851a3b-fd22-4d5e-a2f0-e5cee41a8c60",
   "metadata": {},
   "outputs": [
    {
     "data": {
      "application/vnd.jupyter.widget-view+json": {
       "model_id": "bfd7e4c019e345a5a402ad660eef4912",
       "version_major": 2,
       "version_minor": 0
      },
      "text/plain": [
       "NGLWidget()"
      ]
     },
     "metadata": {},
     "output_type": "display_data"
    }
   ],
   "source": [
    "bulk_H_T_imageI = bulk.copy()\n",
    "H = pr.create.structure.atoms('H', positions=[(2.83/4*6, 2.83/4*8, 2.83/4*6-2.83/4)], cell=cell)\n",
    "bulk_H_T_imageI += H\n",
    "bulk_H_T_imageI += H\n",
    "bulk_H_T_imageI.plot3d()"
   ]
  },
  {
   "cell_type": "code",
   "execution_count": 61,
   "id": "5bbc7ab4-d686-43dd-b7cc-09535855afc9",
   "metadata": {},
   "outputs": [
    {
     "data": {
      "application/vnd.jupyter.widget-view+json": {
       "model_id": "909bb92b13174738a25969edf13b3399",
       "version_major": 2,
       "version_minor": 0
      },
      "text/plain": [
       "NGLWidget()"
      ]
     },
     "metadata": {},
     "output_type": "display_data"
    }
   ],
   "source": [
    "bulk_H_T_imageF = bulk.copy()\n",
    "H = pr.create.structure.atoms('H', positions=[(2.83/4*6, 2.83/4*8, 2.83/4)], cell=cell)\n",
    "bulk_H_T_imageF += H\n",
    "bulk_H_T_imageF.plot3d()"
   ]
  },
  {
   "cell_type": "code",
   "execution_count": 63,
   "id": "2bf0fe92-e642-48d5-a364-a21211510ce1",
   "metadata": {},
   "outputs": [],
   "source": [
    "IS = bulk_H_T_imageI.to_ase()\n",
    "FS = bulk_H_T_imageF.to_ase()"
   ]
  },
  {
   "cell_type": "markdown",
   "id": "2b7ad1e8-305d-4a2a-8ad8-f02680778660",
   "metadata": {},
   "source": [
    "LAMMPS calculator:"
   ]
  },
  {
   "cell_type": "code",
   "execution_count": 2,
   "id": "660a6cb1-fcee-4eb9-886b-3f9c89972ac6",
   "metadata": {
    "collapsed": true,
    "jupyter": {
     "outputs_hidden": true
    }
   },
   "outputs": [
    {
     "ename": "RuntimeError",
     "evalue": "Failed to retrieve any thermo_style-output",
     "output_type": "error",
     "traceback": [
      "\u001b[0;31m---------------------------------------------------------------------------\u001b[0m",
      "\u001b[0;31mRuntimeError\u001b[0m                              Traceback (most recent call last)",
      "Cell \u001b[0;32mIn[2], line 17\u001b[0m\n\u001b[1;32m     14\u001b[0m lammps \u001b[38;5;241m=\u001b[39m LAMMPS(parameters\u001b[38;5;241m=\u001b[39mparameters, files\u001b[38;5;241m=\u001b[39mfiles)\n\u001b[1;32m     16\u001b[0m NiH\u001b[38;5;241m.\u001b[39mcalc \u001b[38;5;241m=\u001b[39m lammps\n\u001b[0;32m---> 17\u001b[0m \u001b[43mNiH\u001b[49m\u001b[38;5;241;43m.\u001b[39;49m\u001b[43mget_potential_energy\u001b[49m\u001b[43m(\u001b[49m\u001b[43m)\u001b[49m\n",
      "File \u001b[0;32m~/miniconda3/envs/pyiron/lib/python3.12/site-packages/ase/atoms.py:731\u001b[0m, in \u001b[0;36mAtoms.get_potential_energy\u001b[0;34m(self, force_consistent, apply_constraint)\u001b[0m\n\u001b[1;32m    728\u001b[0m     energy \u001b[38;5;241m=\u001b[39m \u001b[38;5;28mself\u001b[39m\u001b[38;5;241m.\u001b[39m_calc\u001b[38;5;241m.\u001b[39mget_potential_energy(\n\u001b[1;32m    729\u001b[0m         \u001b[38;5;28mself\u001b[39m, force_consistent\u001b[38;5;241m=\u001b[39mforce_consistent)\n\u001b[1;32m    730\u001b[0m \u001b[38;5;28;01melse\u001b[39;00m:\n\u001b[0;32m--> 731\u001b[0m     energy \u001b[38;5;241m=\u001b[39m \u001b[38;5;28;43mself\u001b[39;49m\u001b[38;5;241;43m.\u001b[39;49m\u001b[43m_calc\u001b[49m\u001b[38;5;241;43m.\u001b[39;49m\u001b[43mget_potential_energy\u001b[49m\u001b[43m(\u001b[49m\u001b[38;5;28;43mself\u001b[39;49m\u001b[43m)\u001b[49m\n\u001b[1;32m    732\u001b[0m \u001b[38;5;28;01mif\u001b[39;00m apply_constraint:\n\u001b[1;32m    733\u001b[0m     \u001b[38;5;28;01mfor\u001b[39;00m constraint \u001b[38;5;129;01min\u001b[39;00m \u001b[38;5;28mself\u001b[39m\u001b[38;5;241m.\u001b[39mconstraints:\n",
      "File \u001b[0;32m~/miniconda3/envs/pyiron/lib/python3.12/site-packages/ase/calculators/calculator.py:709\u001b[0m, in \u001b[0;36mCalculator.get_potential_energy\u001b[0;34m(self, atoms, force_consistent)\u001b[0m\n\u001b[1;32m    708\u001b[0m \u001b[38;5;28;01mdef\u001b[39;00m \u001b[38;5;21mget_potential_energy\u001b[39m(\u001b[38;5;28mself\u001b[39m, atoms\u001b[38;5;241m=\u001b[39m\u001b[38;5;28;01mNone\u001b[39;00m, force_consistent\u001b[38;5;241m=\u001b[39m\u001b[38;5;28;01mFalse\u001b[39;00m):\n\u001b[0;32m--> 709\u001b[0m     energy \u001b[38;5;241m=\u001b[39m \u001b[38;5;28;43mself\u001b[39;49m\u001b[38;5;241;43m.\u001b[39;49m\u001b[43mget_property\u001b[49m\u001b[43m(\u001b[49m\u001b[38;5;124;43m'\u001b[39;49m\u001b[38;5;124;43menergy\u001b[39;49m\u001b[38;5;124;43m'\u001b[39;49m\u001b[43m,\u001b[49m\u001b[43m \u001b[49m\u001b[43matoms\u001b[49m\u001b[43m)\u001b[49m\n\u001b[1;32m    710\u001b[0m     \u001b[38;5;28;01mif\u001b[39;00m force_consistent:\n\u001b[1;32m    711\u001b[0m         \u001b[38;5;28;01mif\u001b[39;00m \u001b[38;5;124m'\u001b[39m\u001b[38;5;124mfree_energy\u001b[39m\u001b[38;5;124m'\u001b[39m \u001b[38;5;129;01mnot\u001b[39;00m \u001b[38;5;129;01min\u001b[39;00m \u001b[38;5;28mself\u001b[39m\u001b[38;5;241m.\u001b[39mresults:\n",
      "File \u001b[0;32m~/miniconda3/envs/pyiron/lib/python3.12/site-packages/ase/calculators/calculator.py:737\u001b[0m, in \u001b[0;36mCalculator.get_property\u001b[0;34m(self, name, atoms, allow_calculation)\u001b[0m\n\u001b[1;32m    735\u001b[0m     \u001b[38;5;28;01mif\u001b[39;00m \u001b[38;5;129;01mnot\u001b[39;00m allow_calculation:\n\u001b[1;32m    736\u001b[0m         \u001b[38;5;28;01mreturn\u001b[39;00m \u001b[38;5;28;01mNone\u001b[39;00m\n\u001b[0;32m--> 737\u001b[0m     \u001b[38;5;28;43mself\u001b[39;49m\u001b[38;5;241;43m.\u001b[39;49m\u001b[43mcalculate\u001b[49m\u001b[43m(\u001b[49m\u001b[43matoms\u001b[49m\u001b[43m,\u001b[49m\u001b[43m \u001b[49m\u001b[43m[\u001b[49m\u001b[43mname\u001b[49m\u001b[43m]\u001b[49m\u001b[43m,\u001b[49m\u001b[43m \u001b[49m\u001b[43msystem_changes\u001b[49m\u001b[43m)\u001b[49m\n\u001b[1;32m    739\u001b[0m \u001b[38;5;28;01mif\u001b[39;00m name \u001b[38;5;129;01mnot\u001b[39;00m \u001b[38;5;129;01min\u001b[39;00m \u001b[38;5;28mself\u001b[39m\u001b[38;5;241m.\u001b[39mresults:\n\u001b[1;32m    740\u001b[0m     \u001b[38;5;66;03m# For some reason the calculator was not able to do what we want,\u001b[39;00m\n\u001b[1;32m    741\u001b[0m     \u001b[38;5;66;03m# and that is OK.\u001b[39;00m\n\u001b[1;32m    742\u001b[0m     \u001b[38;5;28;01mraise\u001b[39;00m PropertyNotImplementedError(\u001b[38;5;124m'\u001b[39m\u001b[38;5;132;01m{}\u001b[39;00m\u001b[38;5;124m not present in this \u001b[39m\u001b[38;5;124m'\u001b[39m\n\u001b[1;32m    743\u001b[0m                                       \u001b[38;5;124m'\u001b[39m\u001b[38;5;124mcalculation\u001b[39m\u001b[38;5;124m'\u001b[39m\u001b[38;5;241m.\u001b[39mformat(name))\n",
      "File \u001b[0;32m~/miniconda3/envs/pyiron/lib/python3.12/site-packages/ase/calculators/lammpsrun.py:321\u001b[0m, in \u001b[0;36mLAMMPS.calculate\u001b[0;34m(self, atoms, properties, system_changes)\u001b[0m\n\u001b[1;32m    319\u001b[0m     system_changes \u001b[38;5;241m=\u001b[39m all_changes\n\u001b[1;32m    320\u001b[0m Calculator\u001b[38;5;241m.\u001b[39mcalculate(\u001b[38;5;28mself\u001b[39m, atoms, properties, system_changes)\n\u001b[0;32m--> 321\u001b[0m \u001b[38;5;28;43mself\u001b[39;49m\u001b[38;5;241;43m.\u001b[39;49m\u001b[43mrun\u001b[49m\u001b[43m(\u001b[49m\u001b[43m)\u001b[49m\n",
      "File \u001b[0;32m~/miniconda3/envs/pyiron/lib/python3.12/site-packages/ase/calculators/lammpsrun.py:488\u001b[0m, in \u001b[0;36mLAMMPS.run\u001b[0;34m(self, set_atoms)\u001b[0m\n\u001b[1;32m    486\u001b[0m \u001b[38;5;66;03m# A few sanity checks\u001b[39;00m\n\u001b[1;32m    487\u001b[0m \u001b[38;5;28;01mif\u001b[39;00m \u001b[38;5;28mlen\u001b[39m(\u001b[38;5;28mself\u001b[39m\u001b[38;5;241m.\u001b[39mthermo_content) \u001b[38;5;241m==\u001b[39m \u001b[38;5;241m0\u001b[39m:\n\u001b[0;32m--> 488\u001b[0m     \u001b[38;5;28;01mraise\u001b[39;00m \u001b[38;5;167;01mRuntimeError\u001b[39;00m(\u001b[38;5;124m\"\u001b[39m\u001b[38;5;124mFailed to retrieve any thermo_style-output\u001b[39m\u001b[38;5;124m\"\u001b[39m)\n\u001b[1;32m    489\u001b[0m \u001b[38;5;28;01mif\u001b[39;00m \u001b[38;5;28mint\u001b[39m(\u001b[38;5;28mself\u001b[39m\u001b[38;5;241m.\u001b[39mthermo_content[\u001b[38;5;241m-\u001b[39m\u001b[38;5;241m1\u001b[39m][\u001b[38;5;124m\"\u001b[39m\u001b[38;5;124matoms\u001b[39m\u001b[38;5;124m\"\u001b[39m]) \u001b[38;5;241m!=\u001b[39m \u001b[38;5;28mlen\u001b[39m(\u001b[38;5;28mself\u001b[39m\u001b[38;5;241m.\u001b[39matoms):\n\u001b[1;32m    490\u001b[0m     \u001b[38;5;66;03m# This obviously shouldn't happen, but if prism.fold_...() fails,\u001b[39;00m\n\u001b[1;32m    491\u001b[0m     \u001b[38;5;66;03m# it could\u001b[39;00m\n\u001b[1;32m    492\u001b[0m     \u001b[38;5;28;01mraise\u001b[39;00m \u001b[38;5;167;01mRuntimeError\u001b[39;00m(\u001b[38;5;124m\"\u001b[39m\u001b[38;5;124mAtoms have gone missing\u001b[39m\u001b[38;5;124m\"\u001b[39m)\n",
      "\u001b[0;31mRuntimeError\u001b[0m: Failed to retrieve any thermo_style-output"
     ]
    }
   ],
   "source": [
    "from ase import Atom, Atoms\n",
    "from ase.build import bulk\n",
    "from ase.calculators.lammpsrun import LAMMPS\n",
    "\n",
    "parameters = {'pair_style': 'eam/alloy',\n",
    "            'pair_coeff': ['* * NiAlH_jea.eam.alloy H Al']}\n",
    "\n",
    "files = ['NiAlH_jea.eam.alloy']\n",
    "\n",
    "Ni = bulk('Ni', cubic=True)\n",
    "H = Atom('H', position=Ni.cell.diagonal()/2)\n",
    "NiH = Ni + H\n",
    "\n",
    "lammps = LAMMPS(parameters=parameters, files=files)\n",
    "\n",
    "NiH.calc = lammps\n",
    "NiH.get_potential_energy()"
   ]
  },
  {
   "cell_type": "markdown",
   "id": "6395b84c-18f7-4af4-b2eb-be965eaeb503",
   "metadata": {},
   "source": [
    "https://wiki.fysik.dtu.dk/ase/ase/calculators/lammpsrun.html#lammps"
   ]
  },
  {
   "cell_type": "code",
   "execution_count": 1,
   "id": "d4d50e9f-1179-475d-b84e-2d8e345190d2",
   "metadata": {},
   "outputs": [
    {
     "name": "stdout",
     "output_type": "stream",
     "text": [
      "LAMMPS (7 Feb 2024 - Update 1)\n"
     ]
    }
   ],
   "source": [
    "from lammps import lammps\n",
    "lmp = lammps()"
   ]
  },
  {
   "cell_type": "code",
   "execution_count": 5,
   "id": "7d7c39f8-d7e5-4e8a-8397-362f52966a83",
   "metadata": {},
   "outputs": [],
   "source": [
    "from ase import Atom, Atoms\n",
    "from ase.build import bulk\n",
    "from ase.calculators.lammpslib import LAMMPSlib"
   ]
  },
  {
   "cell_type": "code",
   "execution_count": 3,
   "id": "0791620f-cafb-431a-96f7-9292e9417a69",
   "metadata": {},
   "outputs": [],
   "source": [
    "cmds = [\"pair_style eam/alloy\",\n",
    "        \"pair_coeff * * NiAlH_jea.eam.alloy Ni H\"]"
   ]
  },
  {
   "cell_type": "code",
   "execution_count": 4,
   "id": "f721ca26-fffb-4766-992e-5dea78511b8d",
   "metadata": {},
   "outputs": [],
   "source": [
    "Ni = bulk('Ni', cubic=True)\n",
    "H = Atom('H', position=Ni.cell.diagonal()/2)\n",
    "NiH = Ni + H"
   ]
  },
  {
   "cell_type": "code",
   "execution_count": 5,
   "id": "9a19d6db-39ff-49e0-a116-77c3b2c42d05",
   "metadata": {},
   "outputs": [],
   "source": [
    "lammps = LAMMPSlib(lmpcmds=cmds, log_file='test.log')"
   ]
  },
  {
   "cell_type": "code",
   "execution_count": 6,
   "id": "fa45bfa5-ff5c-4d71-9b8b-4c7e88d1ba24",
   "metadata": {},
   "outputs": [],
   "source": [
    "NiH.calc = lammps"
   ]
  },
  {
   "cell_type": "code",
   "execution_count": 7,
   "id": "bf53ac93-3519-484e-9ca3-0c9b664703f6",
   "metadata": {},
   "outputs": [
    {
     "data": {
      "text/plain": [
       "<ase.calculators.lammpslib.LAMMPSlib at 0x7cf43c334dd0>"
      ]
     },
     "execution_count": 7,
     "metadata": {},
     "output_type": "execute_result"
    }
   ],
   "source": [
    "lammps"
   ]
  },
  {
   "cell_type": "code",
   "execution_count": 8,
   "id": "79ccdff3-325d-4635-b804-ba38c1432078",
   "metadata": {},
   "outputs": [
    {
     "data": {
      "text/plain": [
       "-19.919477009060433"
      ]
     },
     "execution_count": 8,
     "metadata": {},
     "output_type": "execute_result"
    }
   ],
   "source": [
    "NiH.get_total_energy()"
   ]
  },
  {
   "cell_type": "markdown",
   "id": "684548c2-727e-447a-88ee-172cbdf6bd11",
   "metadata": {},
   "source": [
    "3. Diffusivity of H atoms (see diffusivity and C)"
   ]
  },
  {
   "cell_type": "code",
   "execution_count": 48,
   "id": "7192fd1d-65c6-4a48-8d3b-751619b36edd",
   "metadata": {
    "collapsed": true,
    "jupyter": {
     "outputs_hidden": true
    },
    "scrolled": true
   },
   "outputs": [
    {
     "data": {
      "text/plain": [
       "['1995--Angelo-J-E--Ni-Al-H--LAMMPS--ipr1',\n",
       " '2011--Ko-W-S--Ni-H--LAMMPS--ipr1',\n",
       " '2013--Shim-J-H--V-Ni-H--LAMMPS--ipr1',\n",
       " 'EAM_Dynamo_AngeloMoodyBaskes_1995_NiAlH__MO_418978237058_005',\n",
       " 'EAM_Dynamo_TehranchiCurtin_2010_NiH__MO_535504325462_003',\n",
       " 'MEAM_LAMMPS_KoShimLee_2011_NiH__MO_091278480940_000',\n",
       " 'MEAM_LAMMPS_ShimKoKim_2013_NiVH__MO_612225165948_000']"
      ]
     },
     "execution_count": 48,
     "metadata": {},
     "output_type": "execute_result"
    }
   ],
   "source": [
    "job.list_potentials()"
   ]
  },
  {
   "cell_type": "code",
   "execution_count": 49,
   "id": "aab53545-2f14-4941-90fc-f716d1c98146",
   "metadata": {},
   "outputs": [],
   "source": [
    "job.potential = job.list_potentials()[0]"
   ]
  },
  {
   "cell_type": "code",
   "execution_count": 50,
   "id": "22042277-1c2f-4569-b5a8-0749c2979161",
   "metadata": {},
   "outputs": [],
   "source": [
    "job.calc_minimize()"
   ]
  },
  {
   "cell_type": "code",
   "execution_count": 51,
   "id": "2a79b530-00eb-4f4e-a0e1-8787396ee006",
   "metadata": {},
   "outputs": [
    {
     "name": "stdout",
     "output_type": "stream",
     "text": [
      "The job NiH was saved and received the ID: 10813\n"
     ]
    }
   ],
   "source": [
    "job.run(delete_existing_job=True)"
   ]
  },
  {
   "cell_type": "code",
   "execution_count": 52,
   "id": "b1041517-cbe1-4ba2-85ce-1029edb64cec",
   "metadata": {},
   "outputs": [
    {
     "data": {
      "text/plain": [
       "array([-19.91947701, -20.02129346, -20.06472795, -20.06739502])"
      ]
     },
     "execution_count": 52,
     "metadata": {},
     "output_type": "execute_result"
    }
   ],
   "source": [
    "job.output.energy_tot"
   ]
  },
  {
   "cell_type": "code",
   "execution_count": null,
   "id": "8f2e2a3a-fee2-4d40-824e-69977fb77522",
   "metadata": {},
   "outputs": [],
   "source": []
  },
  {
   "cell_type": "code",
   "execution_count": null,
   "id": "fd01faf5-851d-4cfd-919e-b51c6c7f9a8b",
   "metadata": {},
   "outputs": [],
   "source": []
  },
  {
   "cell_type": "code",
   "execution_count": null,
   "id": "0deb5a06-090a-4f77-a7ad-d277e2647373",
   "metadata": {},
   "outputs": [],
   "source": []
  },
  {
   "cell_type": "markdown",
   "id": "7d7734e2-5533-4a49-97ac-72c58f515b5e",
   "metadata": {},
   "source": [
    "#### set up lammps calculator with nnip"
   ]
  },
  {
   "cell_type": "code",
   "execution_count": 53,
   "id": "78bb4bd4-2990-4d37-b9b6-f98aedc34d8a",
   "metadata": {},
   "outputs": [],
   "source": [
    "from ase.calculators.lammpslib import LAMMPSlib\n",
    "import ase.visualize\n",
    "from ase import Atom, Atoms\n",
    "from ase.build import bulk\n",
    "import pyiron\n",
    "from ase.optimize import BFGS"
   ]
  },
  {
   "cell_type": "code",
   "execution_count": 2,
   "id": "b3e96a25-a359-417c-974b-10302fcf37fd",
   "metadata": {},
   "outputs": [],
   "source": [
    "# cmds = [\"pair_style eam/alloy\",\n",
    "#         \"pair_coeff * * NiAlH_jea.eam.alloy Ni H\"]"
   ]
  },
  {
   "cell_type": "code",
   "execution_count": 51,
   "id": "0b837de8-8dbf-4e39-8b9b-c424977e9aa9",
   "metadata": {},
   "outputs": [],
   "source": [
    "cmds = ['pair_style hdnnp 6.5 dir  ./  showew no showewsum 0 resetew yes maxew 1000000 cflength 1.8897261328 cfenergy 0.0367493254\\n', \n",
    " 'pair_coeff * * Fe H\\n']"
   ]
  },
  {
   "cell_type": "code",
   "execution_count": 54,
   "id": "0ab6cb0d-c3c5-4953-ac1e-69d818fb1093",
   "metadata": {},
   "outputs": [],
   "source": [
    "Fe = bulk('Fe', cubic=True).repeat([2,2,2])\n",
    "del Fe[14]\n",
    "H = Atom('H', position=(2.87,2.87,2.87))\n",
    "FeH = Fe + H"
   ]
  },
  {
   "cell_type": "code",
   "execution_count": 55,
   "id": "a02fb75a-501a-4e5f-9fb4-b2ba0439d973",
   "metadata": {},
   "outputs": [
    {
     "data": {
      "text/plain": [
       "<Popen: returncode: None args: ['/home/gu.huang/miniconda3/envs/pyiron/bin/p...>"
      ]
     },
     "execution_count": 55,
     "metadata": {},
     "output_type": "execute_result"
    }
   ],
   "source": [
    "ase.visualize.view(FeH)"
   ]
  },
  {
   "cell_type": "code",
   "execution_count": 56,
   "id": "ab4ccc51-6462-45ac-b64d-84aa83812379",
   "metadata": {},
   "outputs": [],
   "source": [
    "lammps = LAMMPSlib(lmpcmds=cmds, log_file='test.log')"
   ]
  },
  {
   "cell_type": "code",
   "execution_count": 57,
   "id": "1daee2af-d512-494a-b01c-244376da2e8f",
   "metadata": {},
   "outputs": [],
   "source": [
    "FeH.calc = lammps"
   ]
  },
  {
   "cell_type": "code",
   "execution_count": 58,
   "id": "e2448f76-f818-49f3-a72b-e481077d09f0",
   "metadata": {},
   "outputs": [
    {
     "data": {
      "text/plain": [
       "-123.97297094105927"
      ]
     },
     "execution_count": 58,
     "metadata": {},
     "output_type": "execute_result"
    }
   ],
   "source": [
    "FeH.get_total_energy()"
   ]
  },
  {
   "cell_type": "code",
   "execution_count": 59,
   "id": "9fe9f9da-8f60-4cd8-b00f-2e70c59f9908",
   "metadata": {},
   "outputs": [
    {
     "name": "stdout",
     "output_type": "stream",
     "text": [
      "      Step     Time          Energy          fmax\n",
      "BFGS:    0 13:17:34     -123.972971        0.495822\n",
      "BFGS:    1 13:17:34     -123.999201        0.430154\n",
      "BFGS:    2 13:17:34     -124.081780        0.018775\n",
      "BFGS:    3 13:17:34     -124.081942        0.000398\n"
     ]
    },
    {
     "data": {
      "text/plain": [
       "True"
      ]
     },
     "execution_count": 59,
     "metadata": {},
     "output_type": "execute_result"
    }
   ],
   "source": [
    "opt = BFGS(FeH)\n",
    "opt.run(fmax = 0.01)"
   ]
  },
  {
   "cell_type": "code",
   "execution_count": 60,
   "id": "0bf63298-cd84-4376-86e7-3b85a455882e",
   "metadata": {},
   "outputs": [
    {
     "data": {
      "text/plain": [
       "-121.17179825573427"
      ]
     },
     "execution_count": 60,
     "metadata": {},
     "output_type": "execute_result"
    }
   ],
   "source": [
    "Fe.calc = lammps\n",
    "Fe.get_total_energy()"
   ]
  },
  {
   "cell_type": "code",
   "execution_count": 61,
   "id": "d76efce4-3323-4de2-b08f-80803ade0144",
   "metadata": {},
   "outputs": [
    {
     "name": "stdout",
     "output_type": "stream",
     "text": [
      "      Step     Time          Energy          fmax\n",
      "BFGS:    0 13:18:07     -121.171798        0.284121\n",
      "BFGS:    1 13:18:07     -121.180355        0.243018\n",
      "BFGS:    2 13:18:07     -121.204354        0.009609\n"
     ]
    },
    {
     "data": {
      "text/plain": [
       "True"
      ]
     },
     "execution_count": 61,
     "metadata": {},
     "output_type": "execute_result"
    }
   ],
   "source": [
    "opt = BFGS(Fe)\n",
    "opt.run(fmax = 0.01)"
   ]
  },
  {
   "cell_type": "code",
   "execution_count": 62,
   "id": "1e90a024-f2c6-4f64-b7e2-453d2d461be1",
   "metadata": {},
   "outputs": [
    {
     "data": {
      "text/plain": [
       "-124.08194223517538"
      ]
     },
     "execution_count": 62,
     "metadata": {},
     "output_type": "execute_result"
    }
   ],
   "source": [
    "FeH.get_total_energy()"
   ]
  },
  {
   "cell_type": "code",
   "execution_count": 11,
   "id": "9461b337-25d6-43bf-b4cb-4b097a8bd8d4",
   "metadata": {},
   "outputs": [],
   "source": [
    "Fe.calc = lammps"
   ]
  },
  {
   "cell_type": "code",
   "execution_count": 27,
   "id": "e6c5b229-5cac-4563-ba3e-983b718d586b",
   "metadata": {},
   "outputs": [
    {
     "data": {
      "text/plain": [
       "-16.460429871064395"
      ]
     },
     "execution_count": 27,
     "metadata": {},
     "output_type": "execute_result"
    }
   ],
   "source": [
    "Fe = bulk('Fe', cubic=True)\n",
    "Fe.calc = lammps\n",
    "Fe.get_total_energy()"
   ]
  },
  {
   "cell_type": "code",
   "execution_count": 4,
   "id": "2c41ec46-2553-41be-80c9-bf6addfc9768",
   "metadata": {},
   "outputs": [
    {
     "data": {
      "text/plain": [
       "<Popen: returncode: None args: ['/home/gu.huang/miniconda3/envs/pyiron/bin/p...>"
      ]
     },
     "execution_count": 4,
     "metadata": {},
     "output_type": "execute_result"
    }
   ],
   "source": [
    "ase.visualize.view(Fe)"
   ]
  },
  {
   "cell_type": "code",
   "execution_count": 11,
   "id": "a1b03121-7007-4547-9502-5ddb61768cfa",
   "metadata": {},
   "outputs": [],
   "source": [
    "pr = pyiron.Project('FeH_ase')"
   ]
  },
  {
   "cell_type": "code",
   "execution_count": 13,
   "id": "e3a182a5-83cb-45cb-bfa3-13f31ed9c759",
   "metadata": {},
   "outputs": [],
   "source": [
    "job = pr.create.job.Lammps('FeH_ase', delete_existing_job=True)\n",
    "job.structure = pyiron.ase_to_pyiron(FeH)\n",
    "job.potential = job.list_potentials()[0]"
   ]
  },
  {
   "cell_type": "code",
   "execution_count": 15,
   "id": "b6d3a8da-0eef-44c5-bbe9-9e321176665b",
   "metadata": {},
   "outputs": [],
   "source": [
    "job.calc_minimize()"
   ]
  },
  {
   "cell_type": "code",
   "execution_count": 16,
   "id": "e7135650-ee83-4696-8531-c8aa71c1ff12",
   "metadata": {},
   "outputs": [
    {
     "name": "stdout",
     "output_type": "stream",
     "text": [
      "The job FeH_ase was saved and received the ID: 10814\n"
     ]
    }
   ],
   "source": [
    "job.run()"
   ]
  },
  {
   "cell_type": "code",
   "execution_count": 17,
   "id": "5afabd8a-7d2b-44e0-be66-d3be661715b0",
   "metadata": {},
   "outputs": [
    {
     "data": {
      "text/plain": [
       "array([-17.03694527, -18.18694344])"
      ]
     },
     "execution_count": 17,
     "metadata": {},
     "output_type": "execute_result"
    }
   ],
   "source": [
    "job.output.energy_tot"
   ]
  },
  {
   "cell_type": "code",
   "execution_count": 22,
   "id": "ea2e5898-b4a0-48a4-9b92-6d16fa92ad80",
   "metadata": {},
   "outputs": [],
   "source": [
    "from ase.optimize import BFGS"
   ]
  },
  {
   "cell_type": "code",
   "execution_count": 23,
   "id": "847e1b9d-cd38-4c2a-a3aa-d47cf47df2b0",
   "metadata": {},
   "outputs": [],
   "source": [
    "opt = BFGS(FeH)"
   ]
  },
  {
   "cell_type": "code",
   "execution_count": null,
   "id": "a2b48221-bd3a-4a78-a3cf-7952d2e285e7",
   "metadata": {},
   "outputs": [
    {
     "name": "stdout",
     "output_type": "stream",
     "text": [
      "      Step     Time          Energy         fmax\n",
      "BFGS:    0 11:02:00      -17.036945        7.6779\n"
     ]
    }
   ],
   "source": [
    "opt.run(fmax=0.01)"
   ]
  },
  {
   "cell_type": "code",
   "execution_count": 31,
   "id": "258882bd-98af-46dd-8cdf-1a4c7333892e",
   "metadata": {},
   "outputs": [
    {
     "name": "stderr",
     "output_type": "stream",
     "text": [
      "/tmp/ipykernel_2271270/1287121399.py:3: FutureWarning: Import StrainFilter from ase.filters\n",
      "  ucell = ase.constraints.StrainFilter(Fe, mask=[1, 1, 1, 0, 0, 0])\n"
     ]
    },
    {
     "data": {
      "text/plain": [
       "True"
      ]
     },
     "execution_count": 31,
     "metadata": {},
     "output_type": "execute_result"
    }
   ],
   "source": [
    "import ase.constraints\n",
    "import ase.optimize \n",
    "ucell = ase.constraints.StrainFilter(Fe, mask=[1, 1, 1, 0, 0, 0])\n",
    "opt = ase.optimize.QuasiNewton(ucell, logfile=\"Fe_optimize-cell.log\", trajectory=\"Fe_optimize-cell.traj\")\n",
    "opt.run(fmax=0.01)"
   ]
  },
  {
   "cell_type": "code",
   "execution_count": 32,
   "id": "e3c1fcd9-ff39-410f-9f72-a5ec74115620",
   "metadata": {},
   "outputs": [
    {
     "data": {
      "text/plain": [
       "Cell([2.8299844434291943, 2.8299844434291925, 2.829984443429211])"
      ]
     },
     "execution_count": 32,
     "metadata": {},
     "output_type": "execute_result"
    }
   ],
   "source": [
    "Fe.get_cell()"
   ]
  },
  {
   "cell_type": "code",
   "execution_count": 34,
   "id": "a1c99a04-0810-46bf-90d2-318f9530a897",
   "metadata": {},
   "outputs": [
    {
     "data": {
      "text/plain": [
       "<Popen: returncode: None args: ['/home/gu.huang/miniconda3/envs/pyiron/bin/p...>"
      ]
     },
     "execution_count": 34,
     "metadata": {},
     "output_type": "execute_result"
    }
   ],
   "source": [
    "import ase.io\n",
    "import ase.visualize\n",
    "atoms = ase.io.read(\"./Fe_optimize-cell.traj\")\n",
    "ase.visualize.view(atoms)"
   ]
  },
  {
   "cell_type": "code",
   "execution_count": null,
   "id": "7ff257e1-2d3e-4478-9e94-192d204fa35a",
   "metadata": {},
   "outputs": [],
   "source": []
  },
  {
   "cell_type": "markdown",
   "id": "fa8791a4-4535-4458-94c0-f4e5803793f7",
   "metadata": {},
   "source": [
    "2. Diffusion energy barrier (T to T)"
   ]
  },
  {
   "cell_type": "code",
   "execution_count": 63,
   "id": "37eb35c4-2678-499d-bf97-7dfdf074ca99",
   "metadata": {},
   "outputs": [],
   "source": [
    "from ase.calculators.lammpslib import LAMMPSlib\n",
    "from ase.visualize import view\n",
    "from ase import Atom, Atoms\n",
    "import ase.build\n",
    "import pyiron\n",
    "from ase.optimize import BFGS\n",
    "import pyiron"
   ]
  },
  {
   "cell_type": "code",
   "execution_count": null,
   "id": "9910d4ec-9096-466e-aef1-d1420c27a9c8",
   "metadata": {},
   "outputs": [],
   "source": []
  },
  {
   "cell_type": "code",
   "execution_count": 49,
   "id": "aa2de8d8-79c8-4866-b69d-30378196340c",
   "metadata": {},
   "outputs": [],
   "source": [
    "bulk = ase.build.bulk('Fe', cubic=True).repeat([3,3,3])\n",
    "bulk.calc = "
   ]
  },
  {
   "cell_type": "code",
   "execution_count": null,
   "id": "a19079b4-5dd4-48e0-8130-ae14fcf23c56",
   "metadata": {},
   "outputs": [],
   "source": []
  },
  {
   "cell_type": "code",
   "execution_count": 35,
   "id": "1cba5ba4-9132-4573-98da-2ef9cdbae859",
   "metadata": {},
   "outputs": [
    {
     "ename": "AttributeError",
     "evalue": "'function' object has no attribute 'copy'",
     "output_type": "error",
     "traceback": [
      "\u001b[0;31m---------------------------------------------------------------------------\u001b[0m",
      "\u001b[0;31mAttributeError\u001b[0m                            Traceback (most recent call last)",
      "Cell \u001b[0;32mIn[35], line 1\u001b[0m\n\u001b[0;32m----> 1\u001b[0m bulk_H_T_imageI \u001b[38;5;241m=\u001b[39m \u001b[43mbulk\u001b[49m\u001b[38;5;241;43m.\u001b[39;49m\u001b[43mcopy\u001b[49m()\n\u001b[1;32m      2\u001b[0m H \u001b[38;5;241m=\u001b[39m pr\u001b[38;5;241m.\u001b[39mcreate\u001b[38;5;241m.\u001b[39mstructure\u001b[38;5;241m.\u001b[39matoms(\u001b[38;5;124m'\u001b[39m\u001b[38;5;124mH\u001b[39m\u001b[38;5;124m'\u001b[39m, positions\u001b[38;5;241m=\u001b[39m[(\u001b[38;5;241m2.83\u001b[39m\u001b[38;5;241m/\u001b[39m\u001b[38;5;241m4\u001b[39m\u001b[38;5;241m*\u001b[39m\u001b[38;5;241m6\u001b[39m, \u001b[38;5;241m2.83\u001b[39m\u001b[38;5;241m/\u001b[39m\u001b[38;5;241m4\u001b[39m\u001b[38;5;241m*\u001b[39m\u001b[38;5;241m8\u001b[39m, \u001b[38;5;241m2.83\u001b[39m\u001b[38;5;241m/\u001b[39m\u001b[38;5;241m4\u001b[39m\u001b[38;5;241m*\u001b[39m\u001b[38;5;241m6\u001b[39m\u001b[38;5;241m-\u001b[39m\u001b[38;5;241m2.83\u001b[39m\u001b[38;5;241m/\u001b[39m\u001b[38;5;241m4\u001b[39m)], cell\u001b[38;5;241m=\u001b[39mcell)\n\u001b[1;32m      3\u001b[0m bulk_H_T_imageI \u001b[38;5;241m+\u001b[39m\u001b[38;5;241m=\u001b[39m H\n",
      "\u001b[0;31mAttributeError\u001b[0m: 'function' object has no attribute 'copy'"
     ]
    }
   ],
   "source": [
    "bulk_H_T_imageI = bulk.copy()\n",
    "H = pr.create.structure.atoms('H', positions=[(2.83/4*6, 2.83/4*8, 2.83/4*6-2.83/4)], cell=cell)\n",
    "bulk_H_T_imageI += H\n",
    "bulk_H_T_imageI += H\n",
    "bulk_H_T_imageI.plot3d()"
   ]
  },
  {
   "cell_type": "code",
   "execution_count": 61,
   "id": "408844ca-8776-46b3-a551-28f3d46e2fb0",
   "metadata": {},
   "outputs": [
    {
     "data": {
      "application/vnd.jupyter.widget-view+json": {
       "model_id": "909bb92b13174738a25969edf13b3399",
       "version_major": 2,
       "version_minor": 0
      },
      "text/plain": [
       "NGLWidget()"
      ]
     },
     "metadata": {},
     "output_type": "display_data"
    }
   ],
   "source": [
    "bulk_H_T_imageF = bulk.copy()\n",
    "H = pr.create.structure.atoms('H', positions=[(2.83/4*6, 2.83/4*8, 2.83/4)], cell=cell)\n",
    "bulk_H_T_imageF += H\n",
    "bulk_H_T_imageF.plot3d()"
   ]
  },
  {
   "cell_type": "code",
   "execution_count": 63,
   "id": "2b1c15c5-fe0a-4b5e-8e97-347cdbd942e5",
   "metadata": {},
   "outputs": [],
   "source": [
    "IS = bulk_H_T_imageI.to_ase()\n",
    "FS = bulk_H_T_imageF.to_ase()"
   ]
  }
 ],
 "metadata": {
  "kernelspec": {
   "display_name": "Python 3 (ipykernel)",
   "language": "python",
   "name": "python3"
  },
  "language_info": {
   "codemirror_mode": {
    "name": "ipython",
    "version": 3
   },
   "file_extension": ".py",
   "mimetype": "text/x-python",
   "name": "python",
   "nbconvert_exporter": "python",
   "pygments_lexer": "ipython3",
   "version": "3.12.3"
  }
 },
 "nbformat": 4,
 "nbformat_minor": 5
}
